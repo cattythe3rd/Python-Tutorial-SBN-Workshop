{
 "cells": [
  {
   "cell_type": "markdown",
   "metadata": {},
   "source": [
    "# Up and Running with Python3\n",
    "# NumPy\n",
    "\n",
    "NumPy is a fundamental package for scientific computing with Python. \n",
    "Is a Python library adding support for multi-dimensional arrays and matrices, as well as many useful mathematical functions to operate on these arrays.\n",
    "\n",
    "<img src=\"data/logos/775px-NumPy_logo.svg.png\" style=\"width: 200px;\">"
   ]
  },
  {
   "cell_type": "code",
   "execution_count": null,
   "metadata": {},
   "outputs": [],
   "source": [
    "import numpy as np"
   ]
  },
  {
   "cell_type": "code",
   "execution_count": null,
   "metadata": {},
   "outputs": [],
   "source": [
    "print(np.__version__)"
   ]
  },
  {
   "cell_type": "markdown",
   "metadata": {},
   "source": [
    "In the previous notebook, we saw how to construct lists. Now, we will start from lists, and see how we can construct numpy arrays from them."
   ]
  },
  {
   "cell_type": "code",
   "execution_count": null,
   "metadata": {},
   "outputs": [],
   "source": [
    "masses_list = [0.511, 105.66, 1.78e3]\n",
    "masses_array = np.array(masses_list)\n",
    "masses_array"
   ]
  },
  {
   "cell_type": "markdown",
   "metadata": {},
   "source": [
    "Multiply every element by a number:"
   ]
  },
  {
   "cell_type": "code",
   "execution_count": null,
   "metadata": {},
   "outputs": [],
   "source": [
    "masses_array_gev = masses_array * 1e-3\n",
    "masses_array_gev"
   ]
  },
  {
   "cell_type": "markdown",
   "metadata": {},
   "source": [
    "To get the size of the array, you can use the `len()` function, or the `.size` attribute.\n",
    "\n",
    "You can get the shape of the object by using the `.shape` attribute"
   ]
  },
  {
   "cell_type": "code",
   "execution_count": null,
   "metadata": {},
   "outputs": [],
   "source": [
    "# EXCERCISE: Check that len and size give the same result. What does shape return?\n"
   ]
  },
  {
   "cell_type": "code",
   "execution_count": null,
   "metadata": {},
   "outputs": [],
   "source": [
    "# EXCERCISE: Try np.linspace, np.zeros, np.ones\n"
   ]
  },
  {
   "cell_type": "markdown",
   "metadata": {},
   "source": [
    "## NumPy DataTypes\n",
    "\n",
    "Up until this point, we have been using the default datatypes that NumPy selects for arrays. In the cases for arange and linspace, the default types are integers. \n",
    "\n",
    "In the case of zeros and ones, the default type is floating point. Each of these functions has a `dtype` parameter. For example, we can look here and we see linspace has a `dtype` parameter and its default value is set to `None`. You can use this parameter to determine the datatype for each element in an array. Remember that each element must have the same datatype. \n",
    "\n",
    "At this [link](https://docs.scipy.org/doc/numpy/user/basics.types.html) you can find all the NumPy datatypes.\n",
    "\n",
    "In the previous examples, we saw that the `ones` function and the `zeros` function return arrays that contain floating point values. \n",
    "\n",
    "You can change this and select the datatype that you want by setting a value for the `dtype` parameter. \n",
    "For example you can do `np.ones(9, dtype='int64')`."
   ]
  },
  {
   "cell_type": "code",
   "execution_count": null,
   "metadata": {},
   "outputs": [],
   "source": [
    "# EXCERCISE: Create an array with zeros that has 11 elements, each of which is a 64-bit integer\n"
   ]
  },
  {
   "cell_type": "markdown",
   "metadata": {},
   "source": [
    "And...there is also the _complex_ data type!\n",
    "\n",
    "You can specify a complex type in python using `j` as imaginary number, as in `1+2j`."
   ]
  },
  {
   "cell_type": "code",
   "execution_count": null,
   "metadata": {},
   "outputs": [],
   "source": [
    "# EXCERCISE: Try to add an imaginary number to a numpy array and print the array\n"
   ]
  },
  {
   "cell_type": "markdown",
   "metadata": {},
   "source": [
    "## Array Indexing and Slicing"
   ]
  },
  {
   "cell_type": "code",
   "execution_count": null,
   "metadata": {},
   "outputs": [],
   "source": [
    "masses_array = np.array([2.2, 4.7, 0.511, 1.28, 96, 105.66, 173e3, 4.18e3, 1.78e3, 0, 0, 91.19e3, 80.39e3, 124.97e3])"
   ]
  },
  {
   "cell_type": "markdown",
   "metadata": {},
   "source": [
    "You can use negatixe index to start counting from the end of the array. \n",
    "\n",
    "For example, to select the last element:"
   ]
  },
  {
   "cell_type": "code",
   "execution_count": null,
   "metadata": {},
   "outputs": [],
   "source": [
    "masses_array[-1]"
   ]
  },
  {
   "cell_type": "markdown",
   "metadata": {},
   "source": [
    "Or to select the penultimate element:"
   ]
  },
  {
   "cell_type": "code",
   "execution_count": null,
   "metadata": {},
   "outputs": [],
   "source": [
    "masses_array[-2]"
   ]
  },
  {
   "cell_type": "markdown",
   "metadata": {},
   "source": [
    "And so on..."
   ]
  },
  {
   "cell_type": "markdown",
   "metadata": {},
   "source": [
    "### Slicing\n",
    "\n",
    "A basic slice syntax is `i:j:k` where `i` is the starting index, `j` is the stopping index, and `k` is the step:"
   ]
  },
  {
   "cell_type": "code",
   "execution_count": null,
   "metadata": {},
   "outputs": [],
   "source": [
    "x = np.array([0, 1, 2, 3, 4, 5, 6, 7, 8, 9])\n",
    "x[1:7:2]"
   ]
  },
  {
   "cell_type": "markdown",
   "metadata": {},
   "source": [
    "Now, if `i` is not given, it defaults to 0.\n",
    "\n",
    "If `j` is not given, it defaults to the lenght of the array (call it `n`).\n",
    "\n",
    "If `k` is not given it defaults to 1.\n",
    "\n",
    "\n",
    "**Example** `i = 3`, `j` and `k` defaulted to `n` and 1:"
   ]
  },
  {
   "cell_type": "code",
   "execution_count": null,
   "metadata": {},
   "outputs": [],
   "source": [
    "x[3:]"
   ]
  },
  {
   "cell_type": "markdown",
   "metadata": {},
   "source": [
    "**Example** `i` defaulted to 0, `j = 4` and `k` defaulted and 1:"
   ]
  },
  {
   "cell_type": "code",
   "execution_count": null,
   "metadata": {},
   "outputs": [],
   "source": [
    "x[:4]"
   ]
  },
  {
   "cell_type": "markdown",
   "metadata": {},
   "source": [
    "**Example** `i` defaulted to 0, `j = 4` and `k = 2`:"
   ]
  },
  {
   "cell_type": "code",
   "execution_count": null,
   "metadata": {},
   "outputs": [],
   "source": [
    "x[:4:2]"
   ]
  },
  {
   "cell_type": "code",
   "execution_count": null,
   "metadata": {},
   "outputs": [],
   "source": []
  },
  {
   "cell_type": "markdown",
   "metadata": {},
   "source": [
    "## Linear Algebra\n",
    "\n",
    "The `np.matrix` function returned a matrix from an array like object, or from a string of data. \n",
    "\n",
    "A matrix is a specialized 2D array that retains its 2D nature through operations. \n",
    "\n",
    "It has special operators such as asterisk for matrix multiplication, and a double asterisk for matrix power or matrix exponentiation operations.\n",
    "\n",
    "Let's contruct the a CKM matrix:"
   ]
  },
  {
   "cell_type": "code",
   "execution_count": null,
   "metadata": {},
   "outputs": [],
   "source": [
    "ckm_matrix = np.matrix([[0.97427, 0.22534, 0.00351 ],\n",
    "                        [0.22520, 0.97344, 0.0412  ],\n",
    "                        [0.00867, 0.0404,  0.999146]])"
   ]
  },
  {
   "cell_type": "code",
   "execution_count": null,
   "metadata": {},
   "outputs": [],
   "source": [
    "ckm_matrix"
   ]
  },
  {
   "cell_type": "code",
   "execution_count": null,
   "metadata": {},
   "outputs": [],
   "source": [
    "type(ckm_matrix)"
   ]
  },
  {
   "cell_type": "markdown",
   "metadata": {},
   "source": [
    "Again, we can use the `.shape` attribute to see what is the shape of this matrix:"
   ]
  },
  {
   "cell_type": "code",
   "execution_count": null,
   "metadata": {},
   "outputs": [],
   "source": [
    "ckm_matrix.shape"
   ]
  },
  {
   "cell_type": "markdown",
   "metadata": {},
   "source": [
    "And also `ndim` to see the number of dimensions:"
   ]
  },
  {
   "cell_type": "code",
   "execution_count": null,
   "metadata": {},
   "outputs": [],
   "source": [
    "ckm_matrix.ndim"
   ]
  },
  {
   "cell_type": "markdown",
   "metadata": {},
   "source": [
    "Let's use the `help` function to see what opetations are available:"
   ]
  },
  {
   "cell_type": "code",
   "execution_count": null,
   "metadata": {},
   "outputs": [],
   "source": [
    "# help(np.matrix)"
   ]
  },
  {
   "cell_type": "markdown",
   "metadata": {},
   "source": [
    "Let's the transpose attribute `.T` to calculate the transpose of this matrix. \n",
    "\n",
    "Next we'll use another attribute, `.I`, to calculate the inverse of this matrix. Notice that the inverse is calculated on my first matrix, and not upon the transform of my first matrix. \n",
    "\n",
    "For example, is the transpose of the CKM matrix:"
   ]
  },
  {
   "cell_type": "code",
   "execution_count": null,
   "metadata": {},
   "outputs": [],
   "source": [
    "ckm_matrix.T"
   ]
  },
  {
   "cell_type": "code",
   "execution_count": null,
   "metadata": {},
   "outputs": [],
   "source": [
    "# EXCERCISE: Check that the CKM matrix is unitary:\n"
   ]
  },
  {
   "cell_type": "code",
   "execution_count": null,
   "metadata": {},
   "outputs": [],
   "source": []
  },
  {
   "cell_type": "code",
   "execution_count": null,
   "metadata": {},
   "outputs": [],
   "source": []
  },
  {
   "cell_type": "code",
   "execution_count": null,
   "metadata": {},
   "outputs": [],
   "source": []
  },
  {
   "cell_type": "markdown",
   "metadata": {},
   "source": [
    "## NumPy Example: MicroBooNE Cross Section Mearurement\n",
    "## $\\chi^2$ Calculation\n",
    "\n",
    "Let's start by getting the MicroBooNE extracted data cross section, as well as the predictions according to GENIE, GiBUU and NuWro, and the covariance matrix. This data is saved into txt files in the `data/` directory.\n",
    "\n",
    "The cross section is a double differential cross section calculated over 42 bins in muon mometum and angle.\n",
    "\n",
    "From [PRL 123 131801](https://journals.aps.org/prl/abstract/10.1103/PhysRevLett.123.131801)."
   ]
  },
  {
   "cell_type": "code",
   "execution_count": null,
   "metadata": {},
   "outputs": [],
   "source": [
    "xsec_data    = np.loadtxt('data/ub_xsec_data.txt')\n",
    "xsec_geniev2 = np.loadtxt('data/ub_xsec_geniev2.txt')\n",
    "xsec_geniev3 = np.loadtxt('data/ub_xsec_geniev3.txt')\n",
    "xsec_gibuu   = np.loadtxt('data/ub_xsec_gibuu.txt')\n",
    "xsec_nuwro   = np.loadtxt('data/ub_xsec_nuwro.txt')\n",
    "cov_m        = np.loadtxt('data/microboone_cc_inclusive_covariance_matrix.txt')\n",
    "\n",
    "# The matrix is importes as an ndarray, let's convert it to a matrix\n",
    "cov_m = np.asmatrix(cov_m)"
   ]
  },
  {
   "cell_type": "code",
   "execution_count": null,
   "metadata": {},
   "outputs": [],
   "source": [
    "print('Covariance matrix:', cov_m, sep='\\n')"
   ]
  },
  {
   "cell_type": "code",
   "execution_count": null,
   "metadata": {},
   "outputs": [],
   "source": [
    "print('Data-extracted cross section:', xsec_data, sep='\\n')"
   ]
  },
  {
   "cell_type": "markdown",
   "metadata": {},
   "source": [
    "Let's calculate the $\\chi^2$ between data $x_i$ and prediction $\\mu_i$ in bin $i$, and given the covariance matrix $E$: \n",
    "\n",
    "$\\chi^2 = \\sum_{ij} (x_i - \\mu_i) \\cdot E^{-1}_{ij} \\cdot (x_j - \\mu_j)$"
   ]
  },
  {
   "cell_type": "code",
   "execution_count": null,
   "metadata": {},
   "outputs": [],
   "source": [
    "# EXCERCISE: Calculate the chi2 between data and prediction:\n",
    "\n",
    "# Difference between x_j and mu_j, elementwise:\n",
    "delta = xsec_data - xsec_geniev2\n",
    "\n",
    "# Inverse of the covariance matrix:\n",
    "cov_m_inv = cov_m.I\n",
    "\n",
    "# Matrix multiplication between E and delta\n",
    "t = cov_m_inv.dot(delta)\n",
    "\n",
    "# Final multiplication\n",
    "chi2 = delta.dot(t.T)\n",
    "\n",
    "print('chi2 = ', chi2)"
   ]
  },
  {
   "cell_type": "code",
   "execution_count": null,
   "metadata": {},
   "outputs": [],
   "source": [
    "def chi2(data, prediction, cov_m):\n",
    "    delta = data - prediction\n",
    "    cov_m_inv = cov_m.I\n",
    "    t = cov_m_inv.dot(delta)\n",
    "    return delta.dot(t.T).item(0)"
   ]
  },
  {
   "cell_type": "code",
   "execution_count": null,
   "metadata": {},
   "outputs": [],
   "source": [
    "chi2(xsec_data, xsec_geniev2, cov_m)"
   ]
  },
  {
   "cell_type": "code",
   "execution_count": null,
   "metadata": {},
   "outputs": [],
   "source": [
    "print('GENIEv2 chi2 =', chi2(xsec_data, xsec_geniev2, cov_m))\n",
    "print('GENIEv3 chi2 =', chi2(xsec_data, xsec_geniev3, cov_m))\n",
    "print('GiBUU   chi2 =', chi2(xsec_data, xsec_gibuu,   cov_m))\n",
    "print('NuWro   chi2 =', chi2(xsec_data, xsec_nuwro,   cov_m))"
   ]
  },
  {
   "cell_type": "code",
   "execution_count": null,
   "metadata": {},
   "outputs": [],
   "source": [
    "# # p-value\n",
    "# from scipy import stats\n",
    "# 1 - stats.chi2.cdf(108, 42)"
   ]
  },
  {
   "cell_type": "code",
   "execution_count": null,
   "metadata": {},
   "outputs": [],
   "source": []
  },
  {
   "cell_type": "code",
   "execution_count": null,
   "metadata": {},
   "outputs": [],
   "source": []
  },
  {
   "cell_type": "markdown",
   "metadata": {},
   "source": [
    "# Conclusions\n",
    "You know, you can also fly with Python. Let's try:"
   ]
  },
  {
   "cell_type": "code",
   "execution_count": null,
   "metadata": {},
   "outputs": [],
   "source": [
    "import antigravity"
   ]
  },
  {
   "cell_type": "code",
   "execution_count": null,
   "metadata": {},
   "outputs": [],
   "source": []
  },
  {
   "cell_type": "code",
   "execution_count": null,
   "metadata": {},
   "outputs": [],
   "source": []
  },
  {
   "cell_type": "code",
   "execution_count": null,
   "metadata": {},
   "outputs": [],
   "source": []
  },
  {
   "cell_type": "code",
   "execution_count": null,
   "metadata": {},
   "outputs": [],
   "source": []
  },
  {
   "cell_type": "code",
   "execution_count": null,
   "metadata": {},
   "outputs": [],
   "source": []
  },
  {
   "cell_type": "code",
   "execution_count": null,
   "metadata": {},
   "outputs": [],
   "source": []
  },
  {
   "cell_type": "code",
   "execution_count": null,
   "metadata": {},
   "outputs": [],
   "source": []
  },
  {
   "cell_type": "code",
   "execution_count": null,
   "metadata": {},
   "outputs": [],
   "source": []
  },
  {
   "cell_type": "markdown",
   "metadata": {},
   "source": [
    "# Extras"
   ]
  },
  {
   "cell_type": "markdown",
   "metadata": {},
   "source": [
    "### Reshape\n",
    "\n",
    "The above array `masses_array` is a 1-D array with 14 elements in it. \n",
    "\n",
    "Numpy allows to resphape it easily. For example, we can transform it into a 2-D array with 7 columns and 2 rows.\n",
    "\n",
    "There a few ways to do this. \n",
    "\n",
    "We can either change the `.shape` attribute directly, but is usually better to use the `np.shape()` function, which returns a new, reshaped, array:"
   ]
  },
  {
   "cell_type": "code",
   "execution_count": null,
   "metadata": {},
   "outputs": [],
   "source": [
    "masses_array_2d = np.reshape(masses_array, (7, 2))\n",
    "masses_array_2d"
   ]
  },
  {
   "cell_type": "code",
   "execution_count": null,
   "metadata": {},
   "outputs": [],
   "source": []
  },
  {
   "cell_type": "code",
   "execution_count": null,
   "metadata": {},
   "outputs": [],
   "source": []
  },
  {
   "cell_type": "markdown",
   "metadata": {},
   "source": [
    "## Statistics"
   ]
  },
  {
   "cell_type": "code",
   "execution_count": null,
   "metadata": {},
   "outputs": [],
   "source": [
    "import scipy as sp\n",
    "from scipy.stats import norm"
   ]
  },
  {
   "cell_type": "markdown",
   "metadata": {},
   "source": [
    "Generated normally distributed values"
   ]
  },
  {
   "cell_type": "code",
   "execution_count": null,
   "metadata": {},
   "outputs": [],
   "source": [
    "random_data_set = sp.randn(10000)\n",
    "type(random_data_set)"
   ]
  },
  {
   "cell_type": "code",
   "execution_count": null,
   "metadata": {},
   "outputs": [],
   "source": [
    "random_data_set.mean()"
   ]
  },
  {
   "cell_type": "code",
   "execution_count": null,
   "metadata": {},
   "outputs": [],
   "source": [
    "random_data_set.std()"
   ]
  },
  {
   "cell_type": "code",
   "execution_count": null,
   "metadata": {},
   "outputs": [],
   "source": [
    "random_data_set"
   ]
  },
  {
   "cell_type": "code",
   "execution_count": null,
   "metadata": {},
   "outputs": [],
   "source": []
  },
  {
   "cell_type": "code",
   "execution_count": null,
   "metadata": {},
   "outputs": [],
   "source": []
  },
  {
   "cell_type": "markdown",
   "metadata": {},
   "source": [
    "## Boolean Masks\n",
    "Let's start with a numpy array"
   ]
  },
  {
   "cell_type": "code",
   "execution_count": null,
   "metadata": {},
   "outputs": [],
   "source": [
    "vector = np.array([26, 14, 1, -28, 8, 7])"
   ]
  },
  {
   "cell_type": "markdown",
   "metadata": {},
   "source": [
    "Then, we create a \"mask\". We construct a list with contains True and False values, depending if the elements of `vector` are divisbile or not by 7."
   ]
  },
  {
   "cell_type": "code",
   "execution_count": null,
   "metadata": {},
   "outputs": [],
   "source": [
    "mask = 0 == (vector % 7)"
   ]
  },
  {
   "cell_type": "code",
   "execution_count": null,
   "metadata": {},
   "outputs": [],
   "source": [
    "mask"
   ]
  },
  {
   "cell_type": "markdown",
   "metadata": {},
   "source": [
    "Finally, we can applt this mask to our vector in order to select only elements that are divisible by 7:"
   ]
  },
  {
   "cell_type": "code",
   "execution_count": null,
   "metadata": {},
   "outputs": [],
   "source": [
    "vector[mask]"
   ]
  },
  {
   "cell_type": "code",
   "execution_count": null,
   "metadata": {},
   "outputs": [],
   "source": []
  }
 ],
 "metadata": {
  "kernelspec": {
   "display_name": "Python 3",
   "language": "python",
   "name": "python3"
  },
  "language_info": {
   "codemirror_mode": {
    "name": "ipython",
    "version": 3
   },
   "file_extension": ".py",
   "mimetype": "text/x-python",
   "name": "python",
   "nbconvert_exporter": "python",
   "pygments_lexer": "ipython3",
   "version": "3.7.4"
  }
 },
 "nbformat": 4,
 "nbformat_minor": 2
}
