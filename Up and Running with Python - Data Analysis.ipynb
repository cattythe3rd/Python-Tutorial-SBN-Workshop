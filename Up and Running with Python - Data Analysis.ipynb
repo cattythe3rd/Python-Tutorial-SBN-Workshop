{
 "cells": [
  {
   "cell_type": "markdown",
   "metadata": {},
   "source": [
    "# Up and Running with Python3\n",
    "# Data Analysis\n",
    "\n",
    "In this notebook we will see:\n",
    "- _Pandas_ for expanding data slicing capabilities\n",
    "- _uproot_ for opening a ROOT file in pure python and numpy\n",
    "- _Matplotlib_ for plotting (static)\n",
    "- _Plotly_ for plotting (interactive)"
   ]
  },
  {
   "cell_type": "markdown",
   "metadata": {},
   "source": [
    "## Pandas\n",
    "\n",
    "Pandas is built on top of NumPy and it could be loosely described as NumPy with labels. That is, it is a package that deals with data in tabular form but which attaches more general labels and not just numerical indices to the rows and columns. \n",
    "\n",
    "Here, when we say, \"tables,\" we include also one dimensional vectors, three dimensional data cubes, and so on. \n",
    "\n",
    "Pandas significantly enhances NumPy. In addition to adding data labels and descriptive indices, it is also more robust in handling common data formats and missing data. It also adds relational-database operations, such as joins. \n",
    "\n",
    " Pandas DataFrames extend NumPy two-dimensional arrays by giving labels to the columns and if you provide an explicit index, also to the rows.\n",
    " \n",
    "<img src=\"data/logos/1920px-Pandas_logo.svg.png\" style=\"width: 250px;\">"
   ]
  },
  {
   "cell_type": "code",
   "execution_count": 1,
   "metadata": {},
   "outputs": [],
   "source": [
    "import pandas as pd"
   ]
  },
  {
   "cell_type": "markdown",
   "metadata": {},
   "source": [
    "A DataFrame is a table. It contains an array of individual entries, each of which has a certain value. Each entry corresponds to a row (or record) and a column.\n",
    "\n",
    "For example, we can construct the record for a neutrino interaction:"
   ]
  },
  {
   "cell_type": "code",
   "execution_count": 2,
   "metadata": {},
   "outputs": [
    {
     "data": {
      "text/html": [
       "<div>\n",
       "<style scoped>\n",
       "    .dataframe tbody tr th:only-of-type {\n",
       "        vertical-align: middle;\n",
       "    }\n",
       "\n",
       "    .dataframe tbody tr th {\n",
       "        vertical-align: top;\n",
       "    }\n",
       "\n",
       "    .dataframe thead th {\n",
       "        text-align: right;\n",
       "    }\n",
       "</style>\n",
       "<table border=\"1\" class=\"dataframe\">\n",
       "  <thead>\n",
       "    <tr style=\"text-align: right;\">\n",
       "      <th></th>\n",
       "      <th>Particle</th>\n",
       "      <th>Energy</th>\n",
       "      <th>State</th>\n",
       "    </tr>\n",
       "  </thead>\n",
       "  <tbody>\n",
       "    <tr>\n",
       "      <td>0</td>\n",
       "      <td>14</td>\n",
       "      <td>0.589766</td>\n",
       "      <td>Initial</td>\n",
       "    </tr>\n",
       "    <tr>\n",
       "      <td>1</td>\n",
       "      <td>13</td>\n",
       "      <td>0.489765</td>\n",
       "      <td>Final</td>\n",
       "    </tr>\n",
       "    <tr>\n",
       "      <td>2</td>\n",
       "      <td>2212</td>\n",
       "      <td>0.959907</td>\n",
       "      <td>Final</td>\n",
       "    </tr>\n",
       "  </tbody>\n",
       "</table>\n",
       "</div>"
      ],
      "text/plain": [
       "   Particle    Energy    State\n",
       "0        14  0.589766  Initial\n",
       "1        13  0.489765    Final\n",
       "2      2212  0.959907    Final"
      ]
     },
     "execution_count": 2,
     "metadata": {},
     "output_type": "execute_result"
    }
   ],
   "source": [
    "df = pd.DataFrame({'Particle': [14, 13, 2212], \n",
    "                   'Energy': [0.589766 , 0.489765, 0.959907], \n",
    "                   'State' : ['Initial', 'Final', 'Final']})\n",
    "df"
   ]
  },
  {
   "cell_type": "markdown",
   "metadata": {},
   "source": [
    "We can ask for the `shape` of the dataframe:"
   ]
  },
  {
   "cell_type": "code",
   "execution_count": 3,
   "metadata": {},
   "outputs": [
    {
     "data": {
      "text/plain": [
       "(3, 3)"
      ]
     },
     "execution_count": 3,
     "metadata": {},
     "output_type": "execute_result"
    }
   ],
   "source": [
    "df.shape"
   ]
  },
  {
   "cell_type": "markdown",
   "metadata": {},
   "source": [
    "And for the lenght:"
   ]
  },
  {
   "cell_type": "code",
   "execution_count": 4,
   "metadata": {},
   "outputs": [
    {
     "data": {
      "text/plain": [
       "3"
      ]
     },
     "execution_count": 4,
     "metadata": {},
     "output_type": "execute_result"
    }
   ],
   "source": [
    "len(df)"
   ]
  },
  {
   "cell_type": "markdown",
   "metadata": {},
   "source": [
    "In Python, we can access the property of an object by accessing it as an attribute. A book object, for example, might have a title property, which we can access by calling book.title. Columns in a pandas DataFrame work in much the same way.\n",
    "\n",
    "In this example, you can use df.Particle, for example"
   ]
  },
  {
   "cell_type": "code",
   "execution_count": 5,
   "metadata": {},
   "outputs": [
    {
     "data": {
      "text/plain": [
       "0    Initial\n",
       "1      Final\n",
       "2      Final\n",
       "Name: State, dtype: object"
      ]
     },
     "execution_count": 5,
     "metadata": {},
     "output_type": "execute_result"
    }
   ],
   "source": [
    "# EXCERCISE: Try to access data from the DataFrame\n",
    "df.Particle\n",
    "df.Energy\n",
    "df.State"
   ]
  },
  {
   "cell_type": "markdown",
   "metadata": {},
   "source": [
    "If we have a Python dictionary, we can access its values using the indexing (`[]`) operator. We can do the same with columns in a DataFrame:"
   ]
  },
  {
   "cell_type": "code",
   "execution_count": 6,
   "metadata": {},
   "outputs": [
    {
     "data": {
      "text/plain": [
       "14"
      ]
     },
     "execution_count": 6,
     "metadata": {},
     "output_type": "execute_result"
    }
   ],
   "source": [
    "# EXCERCISE: Try to access data from the DataFrame as if it were a dictionary\n",
    "df['Particle']\n",
    "df['Particle'][0]"
   ]
  },
  {
   "cell_type": "markdown",
   "metadata": {},
   "source": [
    "Pandas has some nice functions that can be applied to the dataframe, for example:"
   ]
  },
  {
   "cell_type": "code",
   "execution_count": 7,
   "metadata": {},
   "outputs": [
    {
     "name": "stdout",
     "output_type": "stream",
     "text": [
      "mean energy: 0.6798126666666667\n",
      "counts: 3\n"
     ]
    }
   ],
   "source": [
    "print('mean energy:', df['Energy'].mean())\n",
    "print('counts:', df['Energy'].count())"
   ]
  },
  {
   "cell_type": "markdown",
   "metadata": {},
   "source": [
    "There are many more things to show about Pandas, and we only cover a few of them. You can find many more information online, for example in this [Kaggle tutorial](https://www.kaggle.com/learn/pandas)."
   ]
  },
  {
   "cell_type": "code",
   "execution_count": null,
   "metadata": {},
   "outputs": [],
   "source": []
  },
  {
   "cell_type": "markdown",
   "metadata": {},
   "source": [
    "## Uproot\n",
    "\n",
    "[uproot](https://uproot.readthedocs.io/en/latest/) allows you to do ROOT I/O in pure Python and Numpy.\n",
    "\n",
    "From the documentation page:\n",
    "\n",
    "    uproot is a reader and a writer of the ROOT file format using only Python and Numpy. Unlike the standard C++ ROOT implementation, uproot is only an I/O library, primarily intended to stream data into machine learning libraries in Python. Unlike PyROOT and root_numpy, uproot does not depend on C++ ROOT. Instead, it uses Numpy to cast blocks of data from the ROOT file as Numpy arrays.\n",
    "    \n",
    "<img src=\"data/logos/uproot-logo-300px.png\" style=\"width: 250px;\">\n",
    "   \n",
    "Let's import it:"
   ]
  },
  {
   "cell_type": "code",
   "execution_count": 8,
   "metadata": {},
   "outputs": [],
   "source": [
    "import uproot"
   ]
  },
  {
   "cell_type": "markdown",
   "metadata": {},
   "source": [
    "You can use `uproot.open(filename)` to open a new file.\n",
    "\n",
    "- `.keys()` allows you to browse what is inside the file\n",
    "\n",
    "- If you want to read TTree branch called, for example, 'particles', you do f\n",
    "\n",
    "For example\n",
    "```\n",
    "f = uproot.open(filename.root)\n",
    "\n",
    "# Browse what is inside the file\n",
    "print('Keys:', f.keys())\n",
    "\n",
    "# If you want to read a TTree called, for example, 'mytree', you do:\n",
    "t = f['mytree']\n",
    "\n",
    "# You can now print the name, title and number of entries in the tree\n",
    "print('Tree name:', t.name)\n",
    "print('Tree title:', t.title)\n",
    "print('Number of entries:', t.numentries)\n",
    "```"
   ]
  },
  {
   "cell_type": "code",
   "execution_count": null,
   "metadata": {},
   "outputs": [],
   "source": []
  },
  {
   "cell_type": "markdown",
   "metadata": {},
   "source": [
    "## Opening a CAF File with uproot\n",
    "\n",
    "As an example on how we can use `uproot`, we are going to open an expore one of the CAFAna files that Fernanda showed in the tutorial yesterday!\n",
    "\n",
    "The file is in the `data` directory, and is called `larout.caf.root`."
   ]
  },
  {
   "cell_type": "code",
   "execution_count": 9,
   "metadata": {},
   "outputs": [
    {
     "name": "stdout",
     "output_type": "stream",
     "text": [
      "Keys: [b'env;1', b'recTree;2', b'recTree;1', b'TotalEvents;1']\n",
      "Tree name: b'recTree'\n",
      "Tree title: b'records'\n",
      "Number of entries: 91\n"
     ]
    }
   ],
   "source": [
    "# EXERCISE: Explore what is in the CAF file\n",
    "f = uproot.open('data/larout.caf.root')\n",
    "\n",
    "print('Keys:', f.keys())\n",
    "\n",
    "t = f['recTree']\n",
    "\n",
    "print('Tree name:', t.name)\n",
    "print('Tree title:', t.title)\n",
    "print('Number of entries:', t.numentries)"
   ]
  },
  {
   "cell_type": "markdown",
   "metadata": {},
   "source": [
    "We can use `.keys()` again to list what are the branches in the Tree.\n",
    "We can also use `.show()` for a more in-depth look:"
   ]
  },
  {
   "cell_type": "code",
   "execution_count": 10,
   "metadata": {},
   "outputs": [
    {
     "name": "stdout",
     "output_type": "stream",
     "text": [
      "rec                        TStreamerInfo              None\n",
      "hdr                        TStreamerObjectAny         None\n",
      "hdr.run                    TStreamerBasicType         asdtype('>u4')\n",
      "hdr.subrun                 TStreamerBasicType         asdtype('>u4')\n",
      "hdr.evt                    TStreamerBasicType         asdtype('>u4')\n",
      "hdr.subevt                 TStreamerBasicType         asdtype('>u2')\n",
      "hdr.ismc                   TStreamerBasicType         asdtype('bool')\n",
      "hdr.det                    TStreamerBasicType         asdtype('>i4')\n",
      "\n",
      "slc                        TStreamerObjectAny         None\n",
      "slc.id                     TStreamerBasicType         asdtype('>i4')\n",
      "slc.charge                 TStreamerBasicType         asdtype('>f4')\n",
      "slc.vertex.x               TStreamerBasicType         asdtype('>f4')\n",
      "slc.vertex.y               TStreamerBasicType         asdtype('>f4')\n",
      "slc.vertex.z               TStreamerBasicType         asdtype('>f4')\n",
      "slc.truth.pdg              TStreamerBasicType         asdtype('>i2')\n",
      "slc.truth.ID               TStreamerBasicType         asdtype('>i4')\n",
      "slc.truth.inttype          TStreamerBasicType         asdtype('>i4')\n",
      "slc.truth.iscc             TStreamerBasicType         asdtype('bool')\n",
      "slc.truth.isvtxcont        TStreamerBasicType         asdtype('bool')\n",
      "slc.truth.E                TStreamerBasicType         asdtype('>f4')\n",
      "slc.truth.visE             TStreamerBasicType         asdtype('>f4')\n",
      "slc.truth.time             TStreamerBasicType         asdtype('>f4')\n",
      "slc.truth.genweight        TStreamerBasicType         asdtype('>f4')\n",
      "slc.truth.xsec             TStreamerBasicType         asdtype('>f4')\n",
      "slc.truth.q2               TStreamerBasicType         asdtype('>f4')\n",
      "slc.truth.x                TStreamerBasicType         asdtype('>f4')\n",
      "slc.truth.y                TStreamerBasicType         asdtype('>f4')\n",
      "slc.truth.w2               TStreamerBasicType         asdtype('>f4')\n",
      "slc.truth.p.x              TStreamerBasicType         asdtype('>f4')\n",
      "slc.truth.p.y              TStreamerBasicType         asdtype('>f4')\n",
      "slc.truth.p.z              TStreamerBasicType         asdtype('>f4')\n",
      "slc.truth.vtx.x            TStreamerBasicType         asdtype('>f4')\n",
      "slc.truth.vtx.y            TStreamerBasicType         asdtype('>f4')\n",
      "slc.truth.vtx.z            TStreamerBasicType         asdtype('>f4')\n",
      "slc.truth.det              TStreamerBasicType         asdtype('>i4')\n",
      "slc.truth.mode             TStreamerBasicType         asdtype('>i4')\n",
      "slc.truth.generator        TStreamerBasicType         asdtype('>i4')\n",
      "slc.truth.genVersion       TStreamerSTL               asjagged(asdtype('>u4'), 10)\n",
      "slc.truth.prim             TStreamerSTL               asdtype('>i4')\n",
      "slc.truth.prim.visE        TStreamerBasicType         asjagged(asdtype('>f4'))\n",
      "slc.truth.prim.startE      TStreamerBasicType         asjagged(asdtype('>f4'))\n",
      "slc.truth.prim.endE        TStreamerBasicType         asjagged(asdtype('>f4'))\n",
      "slc.truth.prim.startT      TStreamerBasicType         asjagged(asdtype('>f4'))\n",
      "slc.truth.prim.endT        TStreamerBasicType         asjagged(asdtype('>f4'))\n",
      "slc.truth.prim.length      TStreamerBasicType         asjagged(asdtype('>f4'))\n",
      "slc.truth.prim.startp.x    TStreamerBasicType         asjagged(asdtype('>f4'))\n",
      "slc.truth.prim.startp.y    TStreamerBasicType         asjagged(asdtype('>f4'))\n",
      "slc.truth.prim.startp.z    TStreamerBasicType         asjagged(asdtype('>f4'))\n",
      "slc.truth.prim.endp.x      TStreamerBasicType         asjagged(asdtype('>f4'))\n",
      "slc.truth.prim.endp.y      TStreamerBasicType         asjagged(asdtype('>f4'))\n",
      "slc.truth.prim.endp.z      TStreamerBasicType         asjagged(asdtype('>f4'))\n",
      "slc.truth.prim.start.x     TStreamerBasicType         asjagged(asdtype('>f4'))\n",
      "slc.truth.prim.start.y     TStreamerBasicType         asjagged(asdtype('>f4'))\n",
      "slc.truth.prim.start.z     TStreamerBasicType         asjagged(asdtype('>f4'))\n",
      "slc.truth.prim.end.x       TStreamerBasicType         asjagged(asdtype('>f4'))\n",
      "slc.truth.prim.end.y       TStreamerBasicType         asjagged(asdtype('>f4'))\n",
      "slc.truth.prim.end.z       TStreamerBasicType         asjagged(asdtype('>f4'))\n",
      "slc.truth.prim.wallin      TStreamerBasicType         asjagged(asdtype('>i4'))\n",
      "slc.truth.prim.wallout     TStreamerBasicType         asjagged(asdtype('>i4'))\n",
      "slc.truth.prim.cont_tpc    TStreamerBasicType         asjagged(asdtype('bool'))\n",
      "slc.truth.prim.crosses_tpc TStreamerBasicType         asjagged(asdtype('bool'))\n",
      "slc.truth.prim.contained   TStreamerBasicType         asjagged(asdtype('bool'))\n",
      "slc.truth.prim.pdg         TStreamerBasicType         asjagged(asdtype('>i4'))\n",
      "slc.truth.prim.G4ID        TStreamerBasicType         asjagged(asdtype('>i4'))\n",
      "slc.truth.prim.interaction_id\n",
      "                           TStreamerBasicType         asjagged(asdtype('>i4'))\n",
      "slc.truth.prim.daughters   TStreamerSTL               asgenobj(SimpleArray(STLVector(asdtype('>u4'))))\n",
      "slc.truth.prim.generator   TStreamerBasicType         asjagged(asdtype('>i4'))\n",
      "slc.truth.prim.start_process\n",
      "                           TStreamerBasicType         asjagged(asdtype('>i4'))\n",
      "slc.truth.prim.end_process TStreamerBasicType         asjagged(asdtype('>i4'))\n",
      "slc.truth.prim.gstatus     TStreamerBasicType         asjagged(asdtype('>i4'))\n",
      "\n",
      "slc.tmatch.visEinslc       TStreamerBasicType         asdtype('>f4')\n",
      "slc.tmatch.visEcosmic      TStreamerBasicType         asdtype('>f4')\n",
      "slc.tmatch.eff             TStreamerBasicType         asdtype('>f4')\n",
      "slc.tmatch.pur             TStreamerBasicType         asdtype('>f4')\n",
      "slc.tmatch.index           TStreamerBasicType         asdtype('>i4')\n",
      "slc.tmatch.is_numucc_primary\n",
      "                           TStreamerBasicType         asdtype('bool')\n",
      "slc.fmatch.present         TStreamerBasicType         asdtype('bool')\n",
      "slc.fmatch.score           TStreamerBasicType         asdtype('>f4')\n",
      "slc.fmatch.time            TStreamerBasicType         asdtype('>f4')\n",
      "slc.fmatch.pe              TStreamerBasicType         asdtype('>f4')\n",
      "slc.is_clear_cosmic        TStreamerBasicType         asdtype('bool')\n",
      "slc.nu_score               TStreamerBasicType         asdtype('>f4')\n",
      "slc.primary                TStreamerSTL               asjagged(asdtype('>u8'), 10)\n",
      "\n",
      "reco                       TStreamerObjectAny         None\n",
      "reco.trk                   TStreamerSTL               asdtype('>i4')\n",
      "reco.trk.npts              TStreamerBasicType         asjagged(asdtype('>u2'))\n",
      "reco.trk.len               TStreamerBasicType         asjagged(asdtype('>f4'))\n",
      "reco.trk.costh             TStreamerBasicType         asjagged(asdtype('>f4'))\n",
      "reco.trk.start.x           TStreamerBasicType         asjagged(asdtype('>f4'))\n",
      "reco.trk.start.y           TStreamerBasicType         asjagged(asdtype('>f4'))\n",
      "reco.trk.start.z           TStreamerBasicType         asjagged(asdtype('>f4'))\n",
      "reco.trk.end.x             TStreamerBasicType         asjagged(asdtype('>f4'))\n",
      "reco.trk.end.y             TStreamerBasicType         asjagged(asdtype('>f4'))\n",
      "reco.trk.end.z             TStreamerBasicType         asjagged(asdtype('>f4'))\n",
      "reco.trk.ID                TStreamerBasicType         asjagged(asdtype('>i4'))\n",
      "reco.trk.chi2pid.pdg       TStreamerBasicType         asjagged(asdtype('>i4'))\n",
      "reco.trk.chi2pid.pid_ndof  TStreamerBasicType         asjagged(asdtype('>i4'))\n",
      "reco.trk.chi2pid.chi2_muon TStreamerBasicType         asjagged(asdtype('>f4'))\n",
      "reco.trk.chi2pid.chi2_pion TStreamerBasicType         asjagged(asdtype('>f4'))\n",
      "reco.trk.chi2pid.chi2_kaon TStreamerBasicType         asjagged(asdtype('>f4'))\n",
      "reco.trk.chi2pid.chi2_proton\n",
      "                           TStreamerBasicType         asjagged(asdtype('>f4'))\n",
      "reco.trk.mcsP.fwdP_muon    TStreamerBasicType         asjagged(asdtype('>f4'))\n",
      "reco.trk.mcsP.fwdP_pion    TStreamerBasicType         asjagged(asdtype('>f4'))\n",
      "reco.trk.mcsP.fwdP_kaon    TStreamerBasicType         asjagged(asdtype('>f4'))\n",
      "reco.trk.mcsP.fwdP_proton  TStreamerBasicType         asjagged(asdtype('>f4'))\n",
      "reco.trk.mcsP.fwdP_err_muon\n",
      "                           TStreamerBasicType         asjagged(asdtype('>f4'))\n",
      "reco.trk.mcsP.fwdP_err_pion\n",
      "                           TStreamerBasicType         asjagged(asdtype('>f4'))\n",
      "reco.trk.mcsP.fwdP_err_kaon\n",
      "                           TStreamerBasicType         asjagged(asdtype('>f4'))\n",
      "reco.trk.mcsP.fwdP_err_proton\n",
      "                           TStreamerBasicType         asjagged(asdtype('>f4'))\n",
      "reco.trk.mcsP.bwdP_muon    TStreamerBasicType         asjagged(asdtype('>f4'))\n",
      "reco.trk.mcsP.bwdP_pion    TStreamerBasicType         asjagged(asdtype('>f4'))\n",
      "reco.trk.mcsP.bwdP_kaon    TStreamerBasicType         asjagged(asdtype('>f4'))\n",
      "reco.trk.mcsP.bwdP_proton  TStreamerBasicType         asjagged(asdtype('>f4'))\n",
      "reco.trk.mcsP.bwdP_err_muon\n",
      "                           TStreamerBasicType         asjagged(asdtype('>f4'))\n",
      "reco.trk.mcsP.bwdP_err_pion\n",
      "                           TStreamerBasicType         asjagged(asdtype('>f4'))\n",
      "reco.trk.mcsP.bwdP_err_kaon\n",
      "                           TStreamerBasicType         asjagged(asdtype('>f4'))\n",
      "reco.trk.mcsP.bwdP_err_proton\n",
      "                           TStreamerBasicType         asjagged(asdtype('>f4'))\n",
      "reco.trk.mcsP.is_bwd_muon  TStreamerBasicType         asjagged(asdtype('bool'))\n",
      "reco.trk.mcsP.is_bwd_pion  TStreamerBasicType         asjagged(asdtype('bool'))\n",
      "reco.trk.mcsP.is_bwd_kaon  TStreamerBasicType         asjagged(asdtype('bool'))\n",
      "reco.trk.mcsP.is_bwd_proton\n",
      "                           TStreamerBasicType         asjagged(asdtype('bool'))\n",
      "reco.trk.rangeP.p_muon     TStreamerBasicType         asjagged(asdtype('>f4'))\n",
      "reco.trk.rangeP.p_proton   TStreamerBasicType         asjagged(asdtype('>f4'))\n",
      "reco.trk.truth.total_deposited_energy\n",
      "                           TStreamerBasicType         asjagged(asdtype('>f4'))\n",
      "reco.trk.truth.matches     TStreamerSTL               asjagged(astable(asdtype(\"[('G4ID', '>i4'), ('energy', '>f4')]\")), 10)\n",
      "reco.trk.crthit.hit.position.x\n",
      "                           TStreamerBasicType         asjagged(asdtype('>f4'))\n",
      "reco.trk.crthit.hit.position.y\n",
      "                           TStreamerBasicType         asjagged(asdtype('>f4'))\n",
      "reco.trk.crthit.hit.position.z\n",
      "                           TStreamerBasicType         asjagged(asdtype('>f4'))\n",
      "reco.trk.crthit.hit.position_err.x\n",
      "                           TStreamerBasicType         asjagged(asdtype('>f4'))\n",
      "reco.trk.crthit.hit.position_err.y\n",
      "                           TStreamerBasicType         asjagged(asdtype('>f4'))\n",
      "reco.trk.crthit.hit.position_err.z\n",
      "                           TStreamerBasicType         asjagged(asdtype('>f4'))\n",
      "reco.trk.crthit.hit.time   TStreamerBasicType         asjagged(asdtype('>f4'))\n",
      "reco.trk.crthit.distance   TStreamerBasicType         asjagged(asdtype('>f4'))\n",
      "reco.trk.daughters         TStreamerSTL               asgenobj(SimpleArray(STLVector(asdtype('>i4'))))\n",
      "\n",
      "reco.ntrk                  TStreamerBasicType         asdtype('>u8')\n",
      "reco.shw                   TStreamerSTL               asdtype('>i4')\n",
      "reco.shw.bestplane         TStreamerBasicType         asjagged(asdtype('>i4'))\n",
      "reco.shw.bestplane_dEdx    TStreamerBasicType         asjagged(asdtype('>f8'))\n",
      "reco.shw.bestplane_energy  TStreamerBasicType         asjagged(asdtype('>f8'))\n",
      "reco.shw.conversion_gap    TStreamerBasicType         asjagged(asdtype('>f4'))\n",
      "reco.shw.density           TStreamerBasicType         asjagged(asdtype('>f4'))\n",
      "reco.shw.len               TStreamerBasicType         asjagged(asdtype('>f4'))\n",
      "reco.shw.open_angle        TStreamerBasicType         asjagged(asdtype('>f4'))\n",
      "reco.shw.dEdx              TStreamerSTL               asgenobj(SimpleArray(STLVector(asdtype('>f8'))))\n",
      "reco.shw.energy            TStreamerSTL               asgenobj(SimpleArray(STLVector(asdtype('>f8'))))\n",
      "reco.shw.dir.x             TStreamerBasicType         asjagged(asdtype('>f4'))\n",
      "reco.shw.dir.y             TStreamerBasicType         asjagged(asdtype('>f4'))\n",
      "reco.shw.dir.z             TStreamerBasicType         asjagged(asdtype('>f4'))\n",
      "reco.shw.start.x           TStreamerBasicType         asjagged(asdtype('>f4'))\n",
      "reco.shw.start.y           TStreamerBasicType         asjagged(asdtype('>f4'))\n",
      "reco.shw.start.z           TStreamerBasicType         asjagged(asdtype('>f4'))\n",
      "\n",
      "reco.nshw                  TStreamerBasicType         asdtype('>u8')\n",
      "\n",
      "true_particles             TStreamerSTL               asdtype('>i4')\n",
      "true_particles.visE        TStreamerBasicType         asjagged(asdtype('>f4'))\n",
      "true_particles.startE      TStreamerBasicType         asjagged(asdtype('>f4'))\n",
      "true_particles.endE        TStreamerBasicType         asjagged(asdtype('>f4'))\n",
      "true_particles.startT      TStreamerBasicType         asjagged(asdtype('>f4'))\n",
      "true_particles.endT        TStreamerBasicType         asjagged(asdtype('>f4'))\n",
      "true_particles.length      TStreamerBasicType         asjagged(asdtype('>f4'))\n",
      "true_particles.startp.x    TStreamerBasicType         asjagged(asdtype('>f4'))\n",
      "true_particles.startp.y    TStreamerBasicType         asjagged(asdtype('>f4'))\n",
      "true_particles.startp.z    TStreamerBasicType         asjagged(asdtype('>f4'))\n",
      "true_particles.endp.x      TStreamerBasicType         asjagged(asdtype('>f4'))\n",
      "true_particles.endp.y      TStreamerBasicType         asjagged(asdtype('>f4'))\n",
      "true_particles.endp.z      TStreamerBasicType         asjagged(asdtype('>f4'))\n",
      "true_particles.start.x     TStreamerBasicType         asjagged(asdtype('>f4'))\n",
      "true_particles.start.y     TStreamerBasicType         asjagged(asdtype('>f4'))\n",
      "true_particles.start.z     TStreamerBasicType         asjagged(asdtype('>f4'))\n",
      "true_particles.end.x       TStreamerBasicType         asjagged(asdtype('>f4'))\n",
      "true_particles.end.y       TStreamerBasicType         asjagged(asdtype('>f4'))\n",
      "true_particles.end.z       TStreamerBasicType         asjagged(asdtype('>f4'))\n",
      "true_particles.wallin      TStreamerBasicType         asjagged(asdtype('>i4'))\n",
      "true_particles.wallout     TStreamerBasicType         asjagged(asdtype('>i4'))\n",
      "true_particles.cont_tpc    TStreamerBasicType         asjagged(asdtype('bool'))\n",
      "true_particles.crosses_tpc TStreamerBasicType         asjagged(asdtype('bool'))\n",
      "true_particles.contained   TStreamerBasicType         asjagged(asdtype('bool'))\n",
      "true_particles.pdg         TStreamerBasicType         asjagged(asdtype('>i4'))\n",
      "true_particles.G4ID        TStreamerBasicType         asjagged(asdtype('>i4'))\n",
      "true_particles.interaction_id\n",
      "                           TStreamerBasicType         asjagged(asdtype('>i4'))\n",
      "true_particles.daughters   TStreamerSTL               asgenobj(SimpleArray(STLVector(asdtype('>u4'))))\n",
      "true_particles.generator   TStreamerBasicType         asjagged(asdtype('>i4'))\n",
      "true_particles.start_process\n",
      "                           TStreamerBasicType         asjagged(asdtype('>i4'))\n",
      "true_particles.end_process TStreamerBasicType         asjagged(asdtype('>i4'))\n",
      "true_particles.gstatus     TStreamerBasicType         asjagged(asdtype('>i4'))\n",
      "\n",
      "crt_hits                   TStreamerSTL               asdtype('>i4')\n",
      "crt_hits.position.x        TStreamerBasicType         asjagged(asdtype('>f4'))\n",
      "crt_hits.position.y        TStreamerBasicType         asjagged(asdtype('>f4'))\n",
      "crt_hits.position.z        TStreamerBasicType         asjagged(asdtype('>f4'))\n",
      "crt_hits.position_err.x    TStreamerBasicType         asjagged(asdtype('>f4'))\n",
      "crt_hits.position_err.y    TStreamerBasicType         asjagged(asdtype('>f4'))\n",
      "crt_hits.position_err.z    TStreamerBasicType         asjagged(asdtype('>f4'))\n",
      "crt_hits.time              TStreamerBasicType         asjagged(asdtype('>f4'))\n",
      "\n"
     ]
    }
   ],
   "source": [
    "t.show()"
   ]
  },
  {
   "cell_type": "markdown",
   "metadata": {},
   "source": [
    "We are going to start loading all branches that start with `hdr`. This is the \"header\" and contains the metadata of the events.\n",
    "\n",
    "We are also now converting the Tree to a `pandas` DataFrame:"
   ]
  },
  {
   "cell_type": "code",
   "execution_count": 11,
   "metadata": {},
   "outputs": [
    {
     "data": {
      "text/html": [
       "<div>\n",
       "<style scoped>\n",
       "    .dataframe tbody tr th:only-of-type {\n",
       "        vertical-align: middle;\n",
       "    }\n",
       "\n",
       "    .dataframe tbody tr th {\n",
       "        vertical-align: top;\n",
       "    }\n",
       "\n",
       "    .dataframe thead th {\n",
       "        text-align: right;\n",
       "    }\n",
       "</style>\n",
       "<table border=\"1\" class=\"dataframe\">\n",
       "  <thead>\n",
       "    <tr style=\"text-align: right;\">\n",
       "      <th></th>\n",
       "      <th>hdr.run</th>\n",
       "      <th>hdr.subrun</th>\n",
       "      <th>hdr.evt</th>\n",
       "      <th>hdr.subevt</th>\n",
       "      <th>hdr.ismc</th>\n",
       "      <th>hdr.det</th>\n",
       "    </tr>\n",
       "    <tr>\n",
       "      <th>entry</th>\n",
       "      <th></th>\n",
       "      <th></th>\n",
       "      <th></th>\n",
       "      <th></th>\n",
       "      <th></th>\n",
       "      <th></th>\n",
       "    </tr>\n",
       "  </thead>\n",
       "  <tbody>\n",
       "    <tr>\n",
       "      <td>0</td>\n",
       "      <td>1</td>\n",
       "      <td>151</td>\n",
       "      <td>0</td>\n",
       "      <td>0</td>\n",
       "      <td>True</td>\n",
       "      <td>1</td>\n",
       "    </tr>\n",
       "    <tr>\n",
       "      <td>1</td>\n",
       "      <td>1</td>\n",
       "      <td>151</td>\n",
       "      <td>0</td>\n",
       "      <td>1</td>\n",
       "      <td>True</td>\n",
       "      <td>1</td>\n",
       "    </tr>\n",
       "    <tr>\n",
       "      <td>2</td>\n",
       "      <td>1</td>\n",
       "      <td>151</td>\n",
       "      <td>0</td>\n",
       "      <td>2</td>\n",
       "      <td>True</td>\n",
       "      <td>1</td>\n",
       "    </tr>\n",
       "    <tr>\n",
       "      <td>3</td>\n",
       "      <td>1</td>\n",
       "      <td>151</td>\n",
       "      <td>0</td>\n",
       "      <td>0</td>\n",
       "      <td>True</td>\n",
       "      <td>1</td>\n",
       "    </tr>\n",
       "    <tr>\n",
       "      <td>4</td>\n",
       "      <td>1</td>\n",
       "      <td>151</td>\n",
       "      <td>0</td>\n",
       "      <td>1</td>\n",
       "      <td>True</td>\n",
       "      <td>1</td>\n",
       "    </tr>\n",
       "    <tr>\n",
       "      <td>...</td>\n",
       "      <td>...</td>\n",
       "      <td>...</td>\n",
       "      <td>...</td>\n",
       "      <td>...</td>\n",
       "      <td>...</td>\n",
       "      <td>...</td>\n",
       "    </tr>\n",
       "    <tr>\n",
       "      <td>86</td>\n",
       "      <td>1</td>\n",
       "      <td>1498</td>\n",
       "      <td>0</td>\n",
       "      <td>0</td>\n",
       "      <td>True</td>\n",
       "      <td>1</td>\n",
       "    </tr>\n",
       "    <tr>\n",
       "      <td>87</td>\n",
       "      <td>1</td>\n",
       "      <td>1498</td>\n",
       "      <td>0</td>\n",
       "      <td>1</td>\n",
       "      <td>True</td>\n",
       "      <td>1</td>\n",
       "    </tr>\n",
       "    <tr>\n",
       "      <td>88</td>\n",
       "      <td>1</td>\n",
       "      <td>1498</td>\n",
       "      <td>0</td>\n",
       "      <td>0</td>\n",
       "      <td>True</td>\n",
       "      <td>1</td>\n",
       "    </tr>\n",
       "    <tr>\n",
       "      <td>89</td>\n",
       "      <td>1</td>\n",
       "      <td>1498</td>\n",
       "      <td>0</td>\n",
       "      <td>1</td>\n",
       "      <td>True</td>\n",
       "      <td>1</td>\n",
       "    </tr>\n",
       "    <tr>\n",
       "      <td>90</td>\n",
       "      <td>1</td>\n",
       "      <td>1498</td>\n",
       "      <td>0</td>\n",
       "      <td>0</td>\n",
       "      <td>True</td>\n",
       "      <td>1</td>\n",
       "    </tr>\n",
       "  </tbody>\n",
       "</table>\n",
       "<p>91 rows × 6 columns</p>\n",
       "</div>"
      ],
      "text/plain": [
       "       hdr.run  hdr.subrun  hdr.evt  hdr.subevt  hdr.ismc  hdr.det\n",
       "entry                                                             \n",
       "0            1         151        0           0      True        1\n",
       "1            1         151        0           1      True        1\n",
       "2            1         151        0           2      True        1\n",
       "3            1         151        0           0      True        1\n",
       "4            1         151        0           1      True        1\n",
       "...        ...         ...      ...         ...       ...      ...\n",
       "86           1        1498        0           0      True        1\n",
       "87           1        1498        0           1      True        1\n",
       "88           1        1498        0           0      True        1\n",
       "89           1        1498        0           1      True        1\n",
       "90           1        1498        0           0      True        1\n",
       "\n",
       "[91 rows x 6 columns]"
      ]
     },
     "execution_count": 11,
     "metadata": {},
     "output_type": "execute_result"
    }
   ],
   "source": [
    "df_hdr = t.pandas.df('hdr*')\n",
    "df_hdr"
   ]
  },
  {
   "cell_type": "markdown",
   "metadata": {},
   "source": [
    "Now let's get all the slice information. They are in branches that start with `slc`."
   ]
  },
  {
   "cell_type": "code",
   "execution_count": 17,
   "metadata": {},
   "outputs": [
    {
     "data": {
      "text/html": [
       "<div>\n",
       "<style scoped>\n",
       "    .dataframe tbody tr th:only-of-type {\n",
       "        vertical-align: middle;\n",
       "    }\n",
       "\n",
       "    .dataframe tbody tr th {\n",
       "        vertical-align: top;\n",
       "    }\n",
       "\n",
       "    .dataframe thead th {\n",
       "        text-align: right;\n",
       "    }\n",
       "</style>\n",
       "<table border=\"1\" class=\"dataframe\">\n",
       "  <thead>\n",
       "    <tr style=\"text-align: right;\">\n",
       "      <th></th>\n",
       "      <th>slc.id</th>\n",
       "      <th>slc.charge</th>\n",
       "      <th>slc.vertex.x</th>\n",
       "      <th>slc.vertex.y</th>\n",
       "      <th>slc.vertex.z</th>\n",
       "      <th>slc.truth.pdg</th>\n",
       "      <th>slc.truth.ID</th>\n",
       "      <th>slc.truth.inttype</th>\n",
       "      <th>slc.truth.iscc</th>\n",
       "      <th>slc.truth.isvtxcont</th>\n",
       "      <th>...</th>\n",
       "      <th>slc.tmatch.pur</th>\n",
       "      <th>slc.tmatch.index</th>\n",
       "      <th>slc.tmatch.is_numucc_primary</th>\n",
       "      <th>slc.fmatch.present</th>\n",
       "      <th>slc.fmatch.score</th>\n",
       "      <th>slc.fmatch.time</th>\n",
       "      <th>slc.fmatch.pe</th>\n",
       "      <th>slc.is_clear_cosmic</th>\n",
       "      <th>slc.nu_score</th>\n",
       "      <th>slc.primary</th>\n",
       "    </tr>\n",
       "    <tr>\n",
       "      <th>entry</th>\n",
       "      <th></th>\n",
       "      <th></th>\n",
       "      <th></th>\n",
       "      <th></th>\n",
       "      <th></th>\n",
       "      <th></th>\n",
       "      <th></th>\n",
       "      <th></th>\n",
       "      <th></th>\n",
       "      <th></th>\n",
       "      <th></th>\n",
       "      <th></th>\n",
       "      <th></th>\n",
       "      <th></th>\n",
       "      <th></th>\n",
       "      <th></th>\n",
       "      <th></th>\n",
       "      <th></th>\n",
       "      <th></th>\n",
       "      <th></th>\n",
       "      <th></th>\n",
       "    </tr>\n",
       "  </thead>\n",
       "  <tbody>\n",
       "    <tr>\n",
       "      <td>0</td>\n",
       "      <td>0</td>\n",
       "      <td>3.402823e+38</td>\n",
       "      <td>61.108170</td>\n",
       "      <td>-133.323792</td>\n",
       "      <td>197.431213</td>\n",
       "      <td>-1</td>\n",
       "      <td>-1</td>\n",
       "      <td>0</td>\n",
       "      <td>True</td>\n",
       "      <td>False</td>\n",
       "      <td>...</td>\n",
       "      <td>0.994711</td>\n",
       "      <td>0</td>\n",
       "      <td>False</td>\n",
       "      <td>True</td>\n",
       "      <td>4.904858</td>\n",
       "      <td>0.486</td>\n",
       "      <td>35672.0</td>\n",
       "      <td>True</td>\n",
       "      <td>1.0</td>\n",
       "      <td>[0, 14, 27]</td>\n",
       "    </tr>\n",
       "    <tr>\n",
       "      <td>1</td>\n",
       "      <td>0</td>\n",
       "      <td>3.402823e+38</td>\n",
       "      <td>38.407635</td>\n",
       "      <td>16.137907</td>\n",
       "      <td>426.478760</td>\n",
       "      <td>-1</td>\n",
       "      <td>-1</td>\n",
       "      <td>0</td>\n",
       "      <td>True</td>\n",
       "      <td>False</td>\n",
       "      <td>...</td>\n",
       "      <td>-1.000000</td>\n",
       "      <td>-1</td>\n",
       "      <td>False</td>\n",
       "      <td>True</td>\n",
       "      <td>8.559261</td>\n",
       "      <td>0.486</td>\n",
       "      <td>36300.0</td>\n",
       "      <td>True</td>\n",
       "      <td>1.0</td>\n",
       "      <td>[8]</td>\n",
       "    </tr>\n",
       "    <tr>\n",
       "      <td>2</td>\n",
       "      <td>0</td>\n",
       "      <td>3.402823e+38</td>\n",
       "      <td>-9.991856</td>\n",
       "      <td>199.993149</td>\n",
       "      <td>257.578583</td>\n",
       "      <td>-1</td>\n",
       "      <td>-1</td>\n",
       "      <td>0</td>\n",
       "      <td>True</td>\n",
       "      <td>False</td>\n",
       "      <td>...</td>\n",
       "      <td>-1.000000</td>\n",
       "      <td>-1</td>\n",
       "      <td>False</td>\n",
       "      <td>False</td>\n",
       "      <td>8.559261</td>\n",
       "      <td>0.486</td>\n",
       "      <td>36300.0</td>\n",
       "      <td>True</td>\n",
       "      <td>1.0</td>\n",
       "      <td>[11]</td>\n",
       "    </tr>\n",
       "    <tr>\n",
       "      <td>3</td>\n",
       "      <td>0</td>\n",
       "      <td>3.402823e+38</td>\n",
       "      <td>143.701813</td>\n",
       "      <td>-82.446648</td>\n",
       "      <td>196.716293</td>\n",
       "      <td>-1</td>\n",
       "      <td>-1</td>\n",
       "      <td>0</td>\n",
       "      <td>True</td>\n",
       "      <td>False</td>\n",
       "      <td>...</td>\n",
       "      <td>0.982117</td>\n",
       "      <td>0</td>\n",
       "      <td>False</td>\n",
       "      <td>True</td>\n",
       "      <td>2.316503</td>\n",
       "      <td>1.264</td>\n",
       "      <td>37282.0</td>\n",
       "      <td>True</td>\n",
       "      <td>1.0</td>\n",
       "      <td>[7, 11, 32]</td>\n",
       "    </tr>\n",
       "    <tr>\n",
       "      <td>4</td>\n",
       "      <td>0</td>\n",
       "      <td>3.402823e+38</td>\n",
       "      <td>76.844391</td>\n",
       "      <td>149.054565</td>\n",
       "      <td>404.951080</td>\n",
       "      <td>-1</td>\n",
       "      <td>-1</td>\n",
       "      <td>0</td>\n",
       "      <td>True</td>\n",
       "      <td>False</td>\n",
       "      <td>...</td>\n",
       "      <td>-1.000000</td>\n",
       "      <td>-1</td>\n",
       "      <td>False</td>\n",
       "      <td>True</td>\n",
       "      <td>20.787901</td>\n",
       "      <td>1.264</td>\n",
       "      <td>38264.0</td>\n",
       "      <td>True</td>\n",
       "      <td>1.0</td>\n",
       "      <td>[10]</td>\n",
       "    </tr>\n",
       "    <tr>\n",
       "      <td>...</td>\n",
       "      <td>...</td>\n",
       "      <td>...</td>\n",
       "      <td>...</td>\n",
       "      <td>...</td>\n",
       "      <td>...</td>\n",
       "      <td>...</td>\n",
       "      <td>...</td>\n",
       "      <td>...</td>\n",
       "      <td>...</td>\n",
       "      <td>...</td>\n",
       "      <td>...</td>\n",
       "      <td>...</td>\n",
       "      <td>...</td>\n",
       "      <td>...</td>\n",
       "      <td>...</td>\n",
       "      <td>...</td>\n",
       "      <td>...</td>\n",
       "      <td>...</td>\n",
       "      <td>...</td>\n",
       "      <td>...</td>\n",
       "      <td>...</td>\n",
       "    </tr>\n",
       "    <tr>\n",
       "      <td>86</td>\n",
       "      <td>0</td>\n",
       "      <td>3.402823e+38</td>\n",
       "      <td>-198.986176</td>\n",
       "      <td>-53.907146</td>\n",
       "      <td>405.668365</td>\n",
       "      <td>-1</td>\n",
       "      <td>-1</td>\n",
       "      <td>0</td>\n",
       "      <td>True</td>\n",
       "      <td>False</td>\n",
       "      <td>...</td>\n",
       "      <td>0.757065</td>\n",
       "      <td>0</td>\n",
       "      <td>False</td>\n",
       "      <td>True</td>\n",
       "      <td>4.970590</td>\n",
       "      <td>0.470</td>\n",
       "      <td>9089.0</td>\n",
       "      <td>True</td>\n",
       "      <td>1.0</td>\n",
       "      <td>[7]</td>\n",
       "    </tr>\n",
       "    <tr>\n",
       "      <td>87</td>\n",
       "      <td>0</td>\n",
       "      <td>3.402823e+38</td>\n",
       "      <td>59.909332</td>\n",
       "      <td>43.666924</td>\n",
       "      <td>387.880798</td>\n",
       "      <td>-1</td>\n",
       "      <td>-1</td>\n",
       "      <td>0</td>\n",
       "      <td>True</td>\n",
       "      <td>False</td>\n",
       "      <td>...</td>\n",
       "      <td>-1.000000</td>\n",
       "      <td>-1</td>\n",
       "      <td>False</td>\n",
       "      <td>False</td>\n",
       "      <td>4.970590</td>\n",
       "      <td>0.470</td>\n",
       "      <td>9089.0</td>\n",
       "      <td>True</td>\n",
       "      <td>1.0</td>\n",
       "      <td>[12, 18, 46]</td>\n",
       "    </tr>\n",
       "    <tr>\n",
       "      <td>88</td>\n",
       "      <td>0</td>\n",
       "      <td>3.402823e+38</td>\n",
       "      <td>110.986198</td>\n",
       "      <td>-97.401550</td>\n",
       "      <td>180.028961</td>\n",
       "      <td>-1</td>\n",
       "      <td>-1</td>\n",
       "      <td>0</td>\n",
       "      <td>True</td>\n",
       "      <td>False</td>\n",
       "      <td>...</td>\n",
       "      <td>0.806656</td>\n",
       "      <td>0</td>\n",
       "      <td>False</td>\n",
       "      <td>True</td>\n",
       "      <td>0.924749</td>\n",
       "      <td>1.184</td>\n",
       "      <td>9901.0</td>\n",
       "      <td>True</td>\n",
       "      <td>1.0</td>\n",
       "      <td>[3, 11]</td>\n",
       "    </tr>\n",
       "    <tr>\n",
       "      <td>89</td>\n",
       "      <td>0</td>\n",
       "      <td>3.402823e+38</td>\n",
       "      <td>-195.533569</td>\n",
       "      <td>-28.966131</td>\n",
       "      <td>105.747879</td>\n",
       "      <td>-1</td>\n",
       "      <td>-1</td>\n",
       "      <td>0</td>\n",
       "      <td>True</td>\n",
       "      <td>False</td>\n",
       "      <td>...</td>\n",
       "      <td>-1.000000</td>\n",
       "      <td>-1</td>\n",
       "      <td>False</td>\n",
       "      <td>True</td>\n",
       "      <td>23.297333</td>\n",
       "      <td>1.184</td>\n",
       "      <td>10097.0</td>\n",
       "      <td>True</td>\n",
       "      <td>1.0</td>\n",
       "      <td>[6]</td>\n",
       "    </tr>\n",
       "    <tr>\n",
       "      <td>90</td>\n",
       "      <td>0</td>\n",
       "      <td>3.402823e+38</td>\n",
       "      <td>129.402771</td>\n",
       "      <td>-175.889603</td>\n",
       "      <td>456.867493</td>\n",
       "      <td>-1</td>\n",
       "      <td>-1</td>\n",
       "      <td>0</td>\n",
       "      <td>True</td>\n",
       "      <td>False</td>\n",
       "      <td>...</td>\n",
       "      <td>0.880874</td>\n",
       "      <td>0</td>\n",
       "      <td>False</td>\n",
       "      <td>True</td>\n",
       "      <td>3.230566</td>\n",
       "      <td>1.094</td>\n",
       "      <td>10166.0</td>\n",
       "      <td>True</td>\n",
       "      <td>1.0</td>\n",
       "      <td>[7, 10, 29]</td>\n",
       "    </tr>\n",
       "  </tbody>\n",
       "</table>\n",
       "<p>91 rows × 74 columns</p>\n",
       "</div>"
      ],
      "text/plain": [
       "       slc.id    slc.charge  slc.vertex.x  slc.vertex.y  slc.vertex.z  \\\n",
       "entry                                                                   \n",
       "0           0  3.402823e+38     61.108170   -133.323792    197.431213   \n",
       "1           0  3.402823e+38     38.407635     16.137907    426.478760   \n",
       "2           0  3.402823e+38     -9.991856    199.993149    257.578583   \n",
       "3           0  3.402823e+38    143.701813    -82.446648    196.716293   \n",
       "4           0  3.402823e+38     76.844391    149.054565    404.951080   \n",
       "...       ...           ...           ...           ...           ...   \n",
       "86          0  3.402823e+38   -198.986176    -53.907146    405.668365   \n",
       "87          0  3.402823e+38     59.909332     43.666924    387.880798   \n",
       "88          0  3.402823e+38    110.986198    -97.401550    180.028961   \n",
       "89          0  3.402823e+38   -195.533569    -28.966131    105.747879   \n",
       "90          0  3.402823e+38    129.402771   -175.889603    456.867493   \n",
       "\n",
       "       slc.truth.pdg  slc.truth.ID  slc.truth.inttype  slc.truth.iscc  \\\n",
       "entry                                                                   \n",
       "0                 -1            -1                  0            True   \n",
       "1                 -1            -1                  0            True   \n",
       "2                 -1            -1                  0            True   \n",
       "3                 -1            -1                  0            True   \n",
       "4                 -1            -1                  0            True   \n",
       "...              ...           ...                ...             ...   \n",
       "86                -1            -1                  0            True   \n",
       "87                -1            -1                  0            True   \n",
       "88                -1            -1                  0            True   \n",
       "89                -1            -1                  0            True   \n",
       "90                -1            -1                  0            True   \n",
       "\n",
       "       slc.truth.isvtxcont  ...  slc.tmatch.pur  slc.tmatch.index  \\\n",
       "entry                       ...                                     \n",
       "0                    False  ...        0.994711                 0   \n",
       "1                    False  ...       -1.000000                -1   \n",
       "2                    False  ...       -1.000000                -1   \n",
       "3                    False  ...        0.982117                 0   \n",
       "4                    False  ...       -1.000000                -1   \n",
       "...                    ...  ...             ...               ...   \n",
       "86                   False  ...        0.757065                 0   \n",
       "87                   False  ...       -1.000000                -1   \n",
       "88                   False  ...        0.806656                 0   \n",
       "89                   False  ...       -1.000000                -1   \n",
       "90                   False  ...        0.880874                 0   \n",
       "\n",
       "       slc.tmatch.is_numucc_primary  slc.fmatch.present  slc.fmatch.score  \\\n",
       "entry                                                                       \n",
       "0                             False                True          4.904858   \n",
       "1                             False                True          8.559261   \n",
       "2                             False               False          8.559261   \n",
       "3                             False                True          2.316503   \n",
       "4                             False                True         20.787901   \n",
       "...                             ...                 ...               ...   \n",
       "86                            False                True          4.970590   \n",
       "87                            False               False          4.970590   \n",
       "88                            False                True          0.924749   \n",
       "89                            False                True         23.297333   \n",
       "90                            False                True          3.230566   \n",
       "\n",
       "       slc.fmatch.time  slc.fmatch.pe  slc.is_clear_cosmic  slc.nu_score  \\\n",
       "entry                                                                      \n",
       "0                0.486        35672.0                 True           1.0   \n",
       "1                0.486        36300.0                 True           1.0   \n",
       "2                0.486        36300.0                 True           1.0   \n",
       "3                1.264        37282.0                 True           1.0   \n",
       "4                1.264        38264.0                 True           1.0   \n",
       "...                ...            ...                  ...           ...   \n",
       "86               0.470         9089.0                 True           1.0   \n",
       "87               0.470         9089.0                 True           1.0   \n",
       "88               1.184         9901.0                 True           1.0   \n",
       "89               1.184        10097.0                 True           1.0   \n",
       "90               1.094        10166.0                 True           1.0   \n",
       "\n",
       "        slc.primary  \n",
       "entry                \n",
       "0       [0, 14, 27]  \n",
       "1               [8]  \n",
       "2              [11]  \n",
       "3       [7, 11, 32]  \n",
       "4              [10]  \n",
       "...             ...  \n",
       "86              [7]  \n",
       "87     [12, 18, 46]  \n",
       "88          [3, 11]  \n",
       "89              [6]  \n",
       "90      [7, 10, 29]  \n",
       "\n",
       "[91 rows x 74 columns]"
      ]
     },
     "execution_count": 17,
     "metadata": {},
     "output_type": "execute_result"
    }
   ],
   "source": [
    "df_slc = f['recTree'].pandas.df('slc*', flatten=False)\n",
    "df_slc"
   ]
  },
  {
   "cell_type": "markdown",
   "metadata": {},
   "source": [
    "## A note about DataFrames:\n",
    "\n",
    "- DataFrames are great but some care is required when designing their structure.\n",
    "\n",
    "- DataFrames work great with a hierarchical structure. For example, if you store all the events and all the tracks per event this is fine, but problems appear if you start storing both tracks and showers in the same dataframe for example, as one event has different numbers of tracks and shower. Some of the problems that arise are solvable, but require some efforts. \n",
    "\n",
    "- Always make sure you design your DataFrame to be as flat as possible, and hirerchical.\n",
    "\n",
    "Example, try to import both the `slc` and the `reco` branches in the same DataFrame:"
   ]
  },
  {
   "cell_type": "code",
   "execution_count": 18,
   "metadata": {},
   "outputs": [
    {
     "ename": "AssertionError",
     "evalue": "",
     "output_type": "error",
     "traceback": [
      "\u001b[0;31m---------------------------------------------------------------------------\u001b[0m",
      "\u001b[0;31mAssertionError\u001b[0m                            Traceback (most recent call last)",
      "\u001b[0;32m<ipython-input-18-9dac749a4561>\u001b[0m in \u001b[0;36m<module>\u001b[0;34m\u001b[0m\n\u001b[0;32m----> 1\u001b[0;31m \u001b[0mf\u001b[0m\u001b[0;34m[\u001b[0m\u001b[0;34m'recTree'\u001b[0m\u001b[0;34m]\u001b[0m\u001b[0;34m.\u001b[0m\u001b[0mpandas\u001b[0m\u001b[0;34m.\u001b[0m\u001b[0mdf\u001b[0m\u001b[0;34m(\u001b[0m\u001b[0;34m[\u001b[0m\u001b[0;34m'slc*'\u001b[0m\u001b[0;34m,\u001b[0m \u001b[0;34m'reco*'\u001b[0m\u001b[0;34m]\u001b[0m \u001b[0;34m,\u001b[0m \u001b[0mflatten\u001b[0m\u001b[0;34m=\u001b[0m\u001b[0;32mFalse\u001b[0m\u001b[0;34m)\u001b[0m\u001b[0;34m\u001b[0m\u001b[0;34m\u001b[0m\u001b[0m\n\u001b[0m",
      "\u001b[0;32m/Library/Frameworks/Python.framework/Versions/3.7/lib/python3.7/site-packages/uproot/_connect/_pandas.py\u001b[0m in \u001b[0;36mdf\u001b[0;34m(self, branches, namedecode, entrystart, entrystop, flatten, flatname, awkwardlib, cache, basketcache, keycache, executor, blocking)\u001b[0m\n\u001b[1;32m     30\u001b[0m     \u001b[0;32mdef\u001b[0m \u001b[0mdf\u001b[0m\u001b[0;34m(\u001b[0m\u001b[0mself\u001b[0m\u001b[0;34m,\u001b[0m \u001b[0mbranches\u001b[0m\u001b[0;34m=\u001b[0m\u001b[0;32mNone\u001b[0m\u001b[0;34m,\u001b[0m \u001b[0mnamedecode\u001b[0m\u001b[0;34m=\u001b[0m\u001b[0;34m\"utf-8\"\u001b[0m\u001b[0;34m,\u001b[0m \u001b[0mentrystart\u001b[0m\u001b[0;34m=\u001b[0m\u001b[0;32mNone\u001b[0m\u001b[0;34m,\u001b[0m \u001b[0mentrystop\u001b[0m\u001b[0;34m=\u001b[0m\u001b[0;32mNone\u001b[0m\u001b[0;34m,\u001b[0m \u001b[0mflatten\u001b[0m\u001b[0;34m=\u001b[0m\u001b[0;32mTrue\u001b[0m\u001b[0;34m,\u001b[0m \u001b[0mflatname\u001b[0m\u001b[0;34m=\u001b[0m\u001b[0;32mNone\u001b[0m\u001b[0;34m,\u001b[0m \u001b[0mawkwardlib\u001b[0m\u001b[0;34m=\u001b[0m\u001b[0;32mNone\u001b[0m\u001b[0;34m,\u001b[0m \u001b[0mcache\u001b[0m\u001b[0;34m=\u001b[0m\u001b[0;32mNone\u001b[0m\u001b[0;34m,\u001b[0m \u001b[0mbasketcache\u001b[0m\u001b[0;34m=\u001b[0m\u001b[0;32mNone\u001b[0m\u001b[0;34m,\u001b[0m \u001b[0mkeycache\u001b[0m\u001b[0;34m=\u001b[0m\u001b[0;32mNone\u001b[0m\u001b[0;34m,\u001b[0m \u001b[0mexecutor\u001b[0m\u001b[0;34m=\u001b[0m\u001b[0;32mNone\u001b[0m\u001b[0;34m,\u001b[0m \u001b[0mblocking\u001b[0m\u001b[0;34m=\u001b[0m\u001b[0;32mTrue\u001b[0m\u001b[0;34m)\u001b[0m\u001b[0;34m:\u001b[0m\u001b[0;34m\u001b[0m\u001b[0;34m\u001b[0m\u001b[0m\n\u001b[1;32m     31\u001b[0m         \u001b[0;32mimport\u001b[0m \u001b[0mpandas\u001b[0m\u001b[0;34m\u001b[0m\u001b[0;34m\u001b[0m\u001b[0m\n\u001b[0;32m---> 32\u001b[0;31m         \u001b[0;32mreturn\u001b[0m \u001b[0mself\u001b[0m\u001b[0;34m.\u001b[0m\u001b[0m_tree\u001b[0m\u001b[0;34m.\u001b[0m\u001b[0marrays\u001b[0m\u001b[0;34m(\u001b[0m\u001b[0mbranches\u001b[0m\u001b[0;34m=\u001b[0m\u001b[0mbranches\u001b[0m\u001b[0;34m,\u001b[0m \u001b[0moutputtype\u001b[0m\u001b[0;34m=\u001b[0m\u001b[0mpandas\u001b[0m\u001b[0;34m.\u001b[0m\u001b[0mDataFrame\u001b[0m\u001b[0;34m,\u001b[0m \u001b[0mnamedecode\u001b[0m\u001b[0;34m=\u001b[0m\u001b[0mnamedecode\u001b[0m\u001b[0;34m,\u001b[0m \u001b[0mentrystart\u001b[0m\u001b[0;34m=\u001b[0m\u001b[0mentrystart\u001b[0m\u001b[0;34m,\u001b[0m \u001b[0mentrystop\u001b[0m\u001b[0;34m=\u001b[0m\u001b[0mentrystop\u001b[0m\u001b[0;34m,\u001b[0m \u001b[0mflatten\u001b[0m\u001b[0;34m=\u001b[0m\u001b[0mflatten\u001b[0m\u001b[0;34m,\u001b[0m \u001b[0mflatname\u001b[0m\u001b[0;34m=\u001b[0m\u001b[0mflatname\u001b[0m\u001b[0;34m,\u001b[0m \u001b[0mawkwardlib\u001b[0m\u001b[0;34m=\u001b[0m\u001b[0mawkwardlib\u001b[0m\u001b[0;34m,\u001b[0m \u001b[0mcache\u001b[0m\u001b[0;34m=\u001b[0m\u001b[0mcache\u001b[0m\u001b[0;34m,\u001b[0m \u001b[0mbasketcache\u001b[0m\u001b[0;34m=\u001b[0m\u001b[0mbasketcache\u001b[0m\u001b[0;34m,\u001b[0m \u001b[0mkeycache\u001b[0m\u001b[0;34m=\u001b[0m\u001b[0mkeycache\u001b[0m\u001b[0;34m,\u001b[0m \u001b[0mexecutor\u001b[0m\u001b[0;34m=\u001b[0m\u001b[0mexecutor\u001b[0m\u001b[0;34m,\u001b[0m \u001b[0mblocking\u001b[0m\u001b[0;34m=\u001b[0m\u001b[0mblocking\u001b[0m\u001b[0;34m)\u001b[0m\u001b[0;34m\u001b[0m\u001b[0;34m\u001b[0m\u001b[0m\n\u001b[0m\u001b[1;32m     33\u001b[0m \u001b[0;34m\u001b[0m\u001b[0m\n\u001b[1;32m     34\u001b[0m     \u001b[0;32mdef\u001b[0m \u001b[0miterate\u001b[0m\u001b[0;34m(\u001b[0m\u001b[0mself\u001b[0m\u001b[0;34m,\u001b[0m \u001b[0mbranches\u001b[0m\u001b[0;34m=\u001b[0m\u001b[0;32mNone\u001b[0m\u001b[0;34m,\u001b[0m \u001b[0mentrysteps\u001b[0m\u001b[0;34m=\u001b[0m\u001b[0;32mNone\u001b[0m\u001b[0;34m,\u001b[0m \u001b[0mnamedecode\u001b[0m\u001b[0;34m=\u001b[0m\u001b[0;34m\"utf-8\"\u001b[0m\u001b[0;34m,\u001b[0m \u001b[0mentrystart\u001b[0m\u001b[0;34m=\u001b[0m\u001b[0;32mNone\u001b[0m\u001b[0;34m,\u001b[0m \u001b[0mentrystop\u001b[0m\u001b[0;34m=\u001b[0m\u001b[0;32mNone\u001b[0m\u001b[0;34m,\u001b[0m \u001b[0mflatten\u001b[0m\u001b[0;34m=\u001b[0m\u001b[0;32mTrue\u001b[0m\u001b[0;34m,\u001b[0m \u001b[0mflatname\u001b[0m\u001b[0;34m=\u001b[0m\u001b[0;32mNone\u001b[0m\u001b[0;34m,\u001b[0m \u001b[0mawkwardlib\u001b[0m\u001b[0;34m=\u001b[0m\u001b[0;32mNone\u001b[0m\u001b[0;34m,\u001b[0m \u001b[0mcache\u001b[0m\u001b[0;34m=\u001b[0m\u001b[0;32mNone\u001b[0m\u001b[0;34m,\u001b[0m \u001b[0mbasketcache\u001b[0m\u001b[0;34m=\u001b[0m\u001b[0;32mNone\u001b[0m\u001b[0;34m,\u001b[0m \u001b[0mkeycache\u001b[0m\u001b[0;34m=\u001b[0m\u001b[0;32mNone\u001b[0m\u001b[0;34m,\u001b[0m \u001b[0mexecutor\u001b[0m\u001b[0;34m=\u001b[0m\u001b[0;32mNone\u001b[0m\u001b[0;34m,\u001b[0m \u001b[0mblocking\u001b[0m\u001b[0;34m=\u001b[0m\u001b[0;32mTrue\u001b[0m\u001b[0;34m)\u001b[0m\u001b[0;34m:\u001b[0m\u001b[0;34m\u001b[0m\u001b[0;34m\u001b[0m\u001b[0m\n",
      "\u001b[0;32m/Library/Frameworks/Python.framework/Versions/3.7/lib/python3.7/site-packages/uproot/tree.py\u001b[0m in \u001b[0;36marrays\u001b[0;34m(self, branches, outputtype, namedecode, entrystart, entrystop, flatten, flatname, awkwardlib, cache, basketcache, keycache, executor, blocking)\u001b[0m\n\u001b[1;32m    515\u001b[0m \u001b[0;34m\u001b[0m\u001b[0m\n\u001b[1;32m    516\u001b[0m         \u001b[0;31m# start the job of filling the arrays\u001b[0m\u001b[0;34m\u001b[0m\u001b[0;34m\u001b[0m\u001b[0;34m\u001b[0m\u001b[0m\n\u001b[0;32m--> 517\u001b[0;31m         \u001b[0mfutures\u001b[0m \u001b[0;34m=\u001b[0m \u001b[0;34m[\u001b[0m\u001b[0;34m(\u001b[0m\u001b[0mbranch\u001b[0m\u001b[0;34m.\u001b[0m\u001b[0mname\u001b[0m \u001b[0;32mif\u001b[0m \u001b[0mnamedecode\u001b[0m \u001b[0;32mis\u001b[0m \u001b[0;32mNone\u001b[0m \u001b[0;32melse\u001b[0m \u001b[0mbranch\u001b[0m\u001b[0;34m.\u001b[0m\u001b[0mname\u001b[0m\u001b[0;34m.\u001b[0m\u001b[0mdecode\u001b[0m\u001b[0;34m(\u001b[0m\u001b[0mnamedecode\u001b[0m\u001b[0;34m)\u001b[0m\u001b[0;34m,\u001b[0m \u001b[0minterpretation\u001b[0m\u001b[0;34m,\u001b[0m \u001b[0mbranch\u001b[0m\u001b[0;34m.\u001b[0m\u001b[0marray\u001b[0m\u001b[0;34m(\u001b[0m\u001b[0minterpretation\u001b[0m\u001b[0;34m=\u001b[0m\u001b[0minterpretation\u001b[0m\u001b[0;34m,\u001b[0m \u001b[0mentrystart\u001b[0m\u001b[0;34m=\u001b[0m\u001b[0mentrystart\u001b[0m\u001b[0;34m,\u001b[0m \u001b[0mentrystop\u001b[0m\u001b[0;34m=\u001b[0m\u001b[0mentrystop\u001b[0m\u001b[0;34m,\u001b[0m \u001b[0mflatten\u001b[0m\u001b[0;34m=\u001b[0m\u001b[0;34m(\u001b[0m\u001b[0mflatten\u001b[0m \u001b[0;32mand\u001b[0m \u001b[0;32mnot\u001b[0m \u001b[0mispandas\u001b[0m\u001b[0;34m)\u001b[0m\u001b[0;34m,\u001b[0m \u001b[0mawkwardlib\u001b[0m\u001b[0;34m=\u001b[0m\u001b[0mawkward\u001b[0m\u001b[0;34m,\u001b[0m \u001b[0mcache\u001b[0m\u001b[0;34m=\u001b[0m\u001b[0mcache\u001b[0m\u001b[0;34m,\u001b[0m \u001b[0mbasketcache\u001b[0m\u001b[0;34m=\u001b[0m\u001b[0mbasketcache\u001b[0m\u001b[0;34m,\u001b[0m \u001b[0mkeycache\u001b[0m\u001b[0;34m=\u001b[0m\u001b[0mkeycache\u001b[0m\u001b[0;34m,\u001b[0m \u001b[0mexecutor\u001b[0m\u001b[0;34m=\u001b[0m\u001b[0mexecutor\u001b[0m\u001b[0;34m,\u001b[0m \u001b[0mblocking\u001b[0m\u001b[0;34m=\u001b[0m\u001b[0;32mFalse\u001b[0m\u001b[0;34m)\u001b[0m\u001b[0;34m)\u001b[0m \u001b[0;32mfor\u001b[0m \u001b[0mbranch\u001b[0m\u001b[0;34m,\u001b[0m \u001b[0minterpretation\u001b[0m \u001b[0;32min\u001b[0m \u001b[0mbranches\u001b[0m\u001b[0;34m]\u001b[0m\u001b[0;34m\u001b[0m\u001b[0;34m\u001b[0m\u001b[0m\n\u001b[0m\u001b[1;32m    518\u001b[0m \u001b[0;34m\u001b[0m\u001b[0m\n\u001b[1;32m    519\u001b[0m         \u001b[0;31m# make functions that wait for the filling job to be done and return the right outputtype\u001b[0m\u001b[0;34m\u001b[0m\u001b[0;34m\u001b[0m\u001b[0;34m\u001b[0m\u001b[0m\n",
      "\u001b[0;32m/Library/Frameworks/Python.framework/Versions/3.7/lib/python3.7/site-packages/uproot/tree.py\u001b[0m in \u001b[0;36m<listcomp>\u001b[0;34m(.0)\u001b[0m\n\u001b[1;32m    515\u001b[0m \u001b[0;34m\u001b[0m\u001b[0m\n\u001b[1;32m    516\u001b[0m         \u001b[0;31m# start the job of filling the arrays\u001b[0m\u001b[0;34m\u001b[0m\u001b[0;34m\u001b[0m\u001b[0;34m\u001b[0m\u001b[0m\n\u001b[0;32m--> 517\u001b[0;31m         \u001b[0mfutures\u001b[0m \u001b[0;34m=\u001b[0m \u001b[0;34m[\u001b[0m\u001b[0;34m(\u001b[0m\u001b[0mbranch\u001b[0m\u001b[0;34m.\u001b[0m\u001b[0mname\u001b[0m \u001b[0;32mif\u001b[0m \u001b[0mnamedecode\u001b[0m \u001b[0;32mis\u001b[0m \u001b[0;32mNone\u001b[0m \u001b[0;32melse\u001b[0m \u001b[0mbranch\u001b[0m\u001b[0;34m.\u001b[0m\u001b[0mname\u001b[0m\u001b[0;34m.\u001b[0m\u001b[0mdecode\u001b[0m\u001b[0;34m(\u001b[0m\u001b[0mnamedecode\u001b[0m\u001b[0;34m)\u001b[0m\u001b[0;34m,\u001b[0m \u001b[0minterpretation\u001b[0m\u001b[0;34m,\u001b[0m \u001b[0mbranch\u001b[0m\u001b[0;34m.\u001b[0m\u001b[0marray\u001b[0m\u001b[0;34m(\u001b[0m\u001b[0minterpretation\u001b[0m\u001b[0;34m=\u001b[0m\u001b[0minterpretation\u001b[0m\u001b[0;34m,\u001b[0m \u001b[0mentrystart\u001b[0m\u001b[0;34m=\u001b[0m\u001b[0mentrystart\u001b[0m\u001b[0;34m,\u001b[0m \u001b[0mentrystop\u001b[0m\u001b[0;34m=\u001b[0m\u001b[0mentrystop\u001b[0m\u001b[0;34m,\u001b[0m \u001b[0mflatten\u001b[0m\u001b[0;34m=\u001b[0m\u001b[0;34m(\u001b[0m\u001b[0mflatten\u001b[0m \u001b[0;32mand\u001b[0m \u001b[0;32mnot\u001b[0m \u001b[0mispandas\u001b[0m\u001b[0;34m)\u001b[0m\u001b[0;34m,\u001b[0m \u001b[0mawkwardlib\u001b[0m\u001b[0;34m=\u001b[0m\u001b[0mawkward\u001b[0m\u001b[0;34m,\u001b[0m \u001b[0mcache\u001b[0m\u001b[0;34m=\u001b[0m\u001b[0mcache\u001b[0m\u001b[0;34m,\u001b[0m \u001b[0mbasketcache\u001b[0m\u001b[0;34m=\u001b[0m\u001b[0mbasketcache\u001b[0m\u001b[0;34m,\u001b[0m \u001b[0mkeycache\u001b[0m\u001b[0;34m=\u001b[0m\u001b[0mkeycache\u001b[0m\u001b[0;34m,\u001b[0m \u001b[0mexecutor\u001b[0m\u001b[0;34m=\u001b[0m\u001b[0mexecutor\u001b[0m\u001b[0;34m,\u001b[0m \u001b[0mblocking\u001b[0m\u001b[0;34m=\u001b[0m\u001b[0;32mFalse\u001b[0m\u001b[0;34m)\u001b[0m\u001b[0;34m)\u001b[0m \u001b[0;32mfor\u001b[0m \u001b[0mbranch\u001b[0m\u001b[0;34m,\u001b[0m \u001b[0minterpretation\u001b[0m \u001b[0;32min\u001b[0m \u001b[0mbranches\u001b[0m\u001b[0;34m]\u001b[0m\u001b[0;34m\u001b[0m\u001b[0;34m\u001b[0m\u001b[0m\n\u001b[0m\u001b[1;32m    518\u001b[0m \u001b[0;34m\u001b[0m\u001b[0m\n\u001b[1;32m    519\u001b[0m         \u001b[0;31m# make functions that wait for the filling job to be done and return the right outputtype\u001b[0m\u001b[0;34m\u001b[0m\u001b[0;34m\u001b[0m\u001b[0;34m\u001b[0m\u001b[0m\n",
      "\u001b[0;32m/Library/Frameworks/Python.framework/Versions/3.7/lib/python3.7/site-packages/uproot/tree.py\u001b[0m in \u001b[0;36marray\u001b[0;34m(self, interpretation, entrystart, entrystop, flatten, awkwardlib, cache, basketcache, keycache, executor, blocking)\u001b[0m\n\u001b[1;32m   1379\u001b[0m             \u001b[0mkeycache\u001b[0m \u001b[0;34m=\u001b[0m \u001b[0;34m{\u001b[0m\u001b[0;34m}\u001b[0m\u001b[0;34m\u001b[0m\u001b[0;34m\u001b[0m\u001b[0m\n\u001b[1;32m   1380\u001b[0m \u001b[0;34m\u001b[0m\u001b[0m\n\u001b[0;32m-> 1381\u001b[0;31m         \u001b[0mbasket_itemoffset\u001b[0m \u001b[0;34m=\u001b[0m \u001b[0mself\u001b[0m\u001b[0;34m.\u001b[0m\u001b[0m_basket_itemoffset\u001b[0m\u001b[0;34m(\u001b[0m\u001b[0minterpretation\u001b[0m\u001b[0;34m,\u001b[0m \u001b[0mbasketstart\u001b[0m\u001b[0;34m,\u001b[0m \u001b[0mbasketstop\u001b[0m\u001b[0;34m,\u001b[0m \u001b[0mkeycache\u001b[0m\u001b[0;34m)\u001b[0m\u001b[0;34m\u001b[0m\u001b[0;34m\u001b[0m\u001b[0m\n\u001b[0m\u001b[1;32m   1382\u001b[0m         \u001b[0mbasket_entryoffset\u001b[0m \u001b[0;34m=\u001b[0m \u001b[0mself\u001b[0m\u001b[0;34m.\u001b[0m\u001b[0m_basket_entryoffset\u001b[0m\u001b[0;34m(\u001b[0m\u001b[0mbasketstart\u001b[0m\u001b[0;34m,\u001b[0m \u001b[0mbasketstop\u001b[0m\u001b[0;34m)\u001b[0m\u001b[0;34m\u001b[0m\u001b[0;34m\u001b[0m\u001b[0m\n\u001b[1;32m   1383\u001b[0m \u001b[0;34m\u001b[0m\u001b[0m\n",
      "\u001b[0;32m/Library/Frameworks/Python.framework/Versions/3.7/lib/python3.7/site-packages/uproot/tree.py\u001b[0m in \u001b[0;36m_basket_itemoffset\u001b[0;34m(self, interpretation, basketstart, basketstop, keycache)\u001b[0m\n\u001b[1;32m   1334\u001b[0m         \u001b[0;32mfor\u001b[0m \u001b[0mj\u001b[0m\u001b[0;34m,\u001b[0m \u001b[0mkey\u001b[0m \u001b[0;32min\u001b[0m \u001b[0menumerate\u001b[0m\u001b[0;34m(\u001b[0m\u001b[0mself\u001b[0m\u001b[0;34m.\u001b[0m\u001b[0m_threadsafe_iterate_keys\u001b[0m\u001b[0;34m(\u001b[0m\u001b[0mkeycache\u001b[0m\u001b[0;34m,\u001b[0m \u001b[0;32mTrue\u001b[0m\u001b[0;34m,\u001b[0m \u001b[0mbasketstart\u001b[0m\u001b[0;34m,\u001b[0m \u001b[0mbasketstop\u001b[0m\u001b[0;34m)\u001b[0m\u001b[0;34m)\u001b[0m\u001b[0;34m:\u001b[0m\u001b[0;34m\u001b[0m\u001b[0;34m\u001b[0m\u001b[0m\n\u001b[1;32m   1335\u001b[0m             \u001b[0mi\u001b[0m \u001b[0;34m=\u001b[0m \u001b[0mbasketstart\u001b[0m \u001b[0;34m+\u001b[0m \u001b[0mj\u001b[0m\u001b[0;34m\u001b[0m\u001b[0;34m\u001b[0m\u001b[0m\n\u001b[0;32m-> 1336\u001b[0;31m             \u001b[0mnumitems\u001b[0m \u001b[0;34m=\u001b[0m \u001b[0minterpretation\u001b[0m\u001b[0;34m.\u001b[0m\u001b[0mnumitems\u001b[0m\u001b[0;34m(\u001b[0m\u001b[0mkey\u001b[0m\u001b[0;34m.\u001b[0m\u001b[0mborder\u001b[0m\u001b[0;34m,\u001b[0m \u001b[0mself\u001b[0m\u001b[0;34m.\u001b[0m\u001b[0mbasket_numentries\u001b[0m\u001b[0;34m(\u001b[0m\u001b[0mi\u001b[0m\u001b[0;34m)\u001b[0m\u001b[0;34m)\u001b[0m\u001b[0;34m\u001b[0m\u001b[0;34m\u001b[0m\u001b[0m\n\u001b[0m\u001b[1;32m   1337\u001b[0m             \u001b[0mbasket_itemoffset\u001b[0m\u001b[0;34m.\u001b[0m\u001b[0mappend\u001b[0m\u001b[0;34m(\u001b[0m\u001b[0mbasket_itemoffset\u001b[0m\u001b[0;34m[\u001b[0m\u001b[0;34m-\u001b[0m\u001b[0;36m1\u001b[0m\u001b[0;34m]\u001b[0m \u001b[0;34m+\u001b[0m \u001b[0mnumitems\u001b[0m\u001b[0;34m)\u001b[0m\u001b[0;34m\u001b[0m\u001b[0;34m\u001b[0m\u001b[0m\n\u001b[1;32m   1338\u001b[0m         \u001b[0;32mreturn\u001b[0m \u001b[0mbasket_itemoffset\u001b[0m\u001b[0;34m\u001b[0m\u001b[0;34m\u001b[0m\u001b[0m\n",
      "\u001b[0;32m/Library/Frameworks/Python.framework/Versions/3.7/lib/python3.7/site-packages/uproot/interp/jagged.py\u001b[0m in \u001b[0;36mnumitems\u001b[0;34m(self, numbytes, numentries)\u001b[0m\n\u001b[1;32m     59\u001b[0m \u001b[0;34m\u001b[0m\u001b[0m\n\u001b[1;32m     60\u001b[0m     \u001b[0;32mdef\u001b[0m \u001b[0mnumitems\u001b[0m\u001b[0;34m(\u001b[0m\u001b[0mself\u001b[0m\u001b[0;34m,\u001b[0m \u001b[0mnumbytes\u001b[0m\u001b[0;34m,\u001b[0m \u001b[0mnumentries\u001b[0m\u001b[0;34m)\u001b[0m\u001b[0;34m:\u001b[0m\u001b[0;34m\u001b[0m\u001b[0;34m\u001b[0m\u001b[0m\n\u001b[0;32m---> 61\u001b[0;31m         \u001b[0;32mreturn\u001b[0m \u001b[0mself\u001b[0m\u001b[0;34m.\u001b[0m\u001b[0mcontent\u001b[0m\u001b[0;34m.\u001b[0m\u001b[0mnumitems\u001b[0m\u001b[0;34m(\u001b[0m\u001b[0mnumbytes\u001b[0m \u001b[0;34m-\u001b[0m \u001b[0mnumentries\u001b[0m \u001b[0;34m*\u001b[0m \u001b[0mself\u001b[0m\u001b[0;34m.\u001b[0m\u001b[0mskipbytes\u001b[0m\u001b[0;34m,\u001b[0m \u001b[0mnumentries\u001b[0m\u001b[0;34m)\u001b[0m\u001b[0;34m\u001b[0m\u001b[0;34m\u001b[0m\u001b[0m\n\u001b[0m\u001b[1;32m     62\u001b[0m \u001b[0;34m\u001b[0m\u001b[0m\n\u001b[1;32m     63\u001b[0m     \u001b[0;32mdef\u001b[0m \u001b[0msource_numitems\u001b[0m\u001b[0;34m(\u001b[0m\u001b[0mself\u001b[0m\u001b[0;34m,\u001b[0m \u001b[0msource\u001b[0m\u001b[0;34m)\u001b[0m\u001b[0;34m:\u001b[0m\u001b[0;34m\u001b[0m\u001b[0;34m\u001b[0m\u001b[0m\n",
      "\u001b[0;32m/Library/Frameworks/Python.framework/Versions/3.7/lib/python3.7/site-packages/uproot/interp/objects.py\u001b[0m in \u001b[0;36mnumitems\u001b[0;34m(self, numbytes, numentries)\u001b[0m\n\u001b[1;32m    199\u001b[0m \u001b[0;34m\u001b[0m\u001b[0m\n\u001b[1;32m    200\u001b[0m     \u001b[0;32mdef\u001b[0m \u001b[0mnumitems\u001b[0m\u001b[0;34m(\u001b[0m\u001b[0mself\u001b[0m\u001b[0;34m,\u001b[0m \u001b[0mnumbytes\u001b[0m\u001b[0;34m,\u001b[0m \u001b[0mnumentries\u001b[0m\u001b[0;34m)\u001b[0m\u001b[0;34m:\u001b[0m\u001b[0;34m\u001b[0m\u001b[0;34m\u001b[0m\u001b[0m\n\u001b[0;32m--> 201\u001b[0;31m         \u001b[0;32mreturn\u001b[0m \u001b[0mself\u001b[0m\u001b[0;34m.\u001b[0m\u001b[0mcontent\u001b[0m\u001b[0;34m.\u001b[0m\u001b[0mnumitems\u001b[0m\u001b[0;34m(\u001b[0m\u001b[0mnumbytes\u001b[0m\u001b[0;34m,\u001b[0m \u001b[0mnumentries\u001b[0m\u001b[0;34m)\u001b[0m\u001b[0;34m\u001b[0m\u001b[0;34m\u001b[0m\u001b[0m\n\u001b[0m\u001b[1;32m    202\u001b[0m \u001b[0;34m\u001b[0m\u001b[0m\n\u001b[1;32m    203\u001b[0m     \u001b[0;32mdef\u001b[0m \u001b[0msource_numitems\u001b[0m\u001b[0;34m(\u001b[0m\u001b[0mself\u001b[0m\u001b[0;34m,\u001b[0m \u001b[0msource\u001b[0m\u001b[0;34m)\u001b[0m\u001b[0;34m:\u001b[0m\u001b[0;34m\u001b[0m\u001b[0;34m\u001b[0m\u001b[0m\n",
      "\u001b[0;32m/Library/Frameworks/Python.framework/Versions/3.7/lib/python3.7/site-packages/uproot/interp/numerical.py\u001b[0m in \u001b[0;36mnumitems\u001b[0;34m(self, numbytes, numentries)\u001b[0m\n\u001b[1;32m    157\u001b[0m         \u001b[0mdtype\u001b[0m\u001b[0;34m,\u001b[0m \u001b[0mshape\u001b[0m \u001b[0;34m=\u001b[0m \u001b[0m_dtypeshape\u001b[0m\u001b[0;34m(\u001b[0m\u001b[0mself\u001b[0m\u001b[0;34m.\u001b[0m\u001b[0mfromdtype\u001b[0m\u001b[0;34m)\u001b[0m\u001b[0;34m\u001b[0m\u001b[0;34m\u001b[0m\u001b[0m\n\u001b[1;32m    158\u001b[0m         \u001b[0mquotient\u001b[0m\u001b[0;34m,\u001b[0m \u001b[0mremainder\u001b[0m \u001b[0;34m=\u001b[0m \u001b[0mdivmod\u001b[0m\u001b[0;34m(\u001b[0m\u001b[0mnumbytes\u001b[0m\u001b[0;34m,\u001b[0m \u001b[0mdtype\u001b[0m\u001b[0;34m.\u001b[0m\u001b[0mitemsize\u001b[0m\u001b[0;34m)\u001b[0m\u001b[0;34m\u001b[0m\u001b[0;34m\u001b[0m\u001b[0m\n\u001b[0;32m--> 159\u001b[0;31m         \u001b[0;32massert\u001b[0m \u001b[0mremainder\u001b[0m \u001b[0;34m==\u001b[0m \u001b[0;36m0\u001b[0m\u001b[0;34m\u001b[0m\u001b[0;34m\u001b[0m\u001b[0m\n\u001b[0m\u001b[1;32m    160\u001b[0m         \u001b[0;32mreturn\u001b[0m \u001b[0mquotient\u001b[0m\u001b[0;34m\u001b[0m\u001b[0;34m\u001b[0m\u001b[0m\n\u001b[1;32m    161\u001b[0m \u001b[0;34m\u001b[0m\u001b[0m\n",
      "\u001b[0;31mAssertionError\u001b[0m: "
     ]
    }
   ],
   "source": [
    "f['recTree'].pandas.df(['slc*', 'reco*'] , flatten=False)"
   ]
  },
  {
   "cell_type": "markdown",
   "metadata": {},
   "source": [
    "... yes... it fails "
   ]
  },
  {
   "cell_type": "code",
   "execution_count": null,
   "metadata": {},
   "outputs": [],
   "source": []
  },
  {
   "cell_type": "markdown",
   "metadata": {},
   "source": [
    "## Matplotlib\n",
    "\n",
    "Matplotlib is a plotting library for Python and NumPy. We will see more about matplotlib later, but here you can immediately see how easy it is to use from a pandas dataframe.\n",
    "\n",
    "<img src=\"data/logos/matplotlib.png\" style=\"width: 250px;\">\n",
    "\n",
    "From a pandas dataframe, we can immediately plot:"
   ]
  },
  {
   "cell_type": "code",
   "execution_count": null,
   "metadata": {},
   "outputs": [],
   "source": [
    "df_slc['slc.vertex.x'].plot.hist()"
   ]
  },
  {
   "cell_type": "code",
   "execution_count": null,
   "metadata": {},
   "outputs": [],
   "source": [
    "df_slc.plot.scatter(x='slc.vertex.z', y='slc.vertex.y', color='DarkBlue', label='Vertices');"
   ]
  },
  {
   "cell_type": "markdown",
   "metadata": {},
   "source": [
    "## Seaborn\n",
    "\n",
    "[seaborn](https://seaborn.pydata.org) is a Python data visualization library based on matplotlib.\n",
    "\n",
    "It provides a high-level interface for drawing attractive and informative statistical graphics.\n",
    "\n",
    "Let's see seaborn in action. First, let's import it:"
   ]
  },
  {
   "cell_type": "code",
   "execution_count": null,
   "metadata": {},
   "outputs": [],
   "source": [
    "import seaborn as sns"
   ]
  },
  {
   "cell_type": "markdown",
   "metadata": {},
   "source": [
    "Now, let do the same scatte plot, but with seaborn's `jointpolt` function:"
   ]
  },
  {
   "cell_type": "code",
   "execution_count": null,
   "metadata": {},
   "outputs": [],
   "source": [
    "sns.jointplot('slc.vertex.z','slc.vertex.y', df_slc)"
   ]
  },
  {
   "cell_type": "markdown",
   "metadata": {},
   "source": [
    "With seaborn, we can also plot more variables simultaneously, and look at their correlations.\n",
    "\n",
    "Here, let's look at the correlation between:\n",
    "- the number of points in a track\n",
    "- the track lenght\n",
    "- the $\\cos\\theta$ of the track"
   ]
  },
  {
   "cell_type": "code",
   "execution_count": null,
   "metadata": {},
   "outputs": [],
   "source": [
    "variables = ['reco.trk.npts', 'reco.trk.len', 'reco.trk.costh']\n",
    "\n",
    "df_reco = f['recTree'].pandas.df(variables, flatten=True)\n",
    "\n",
    "sns.pairplot(df_reco, vars=variables, plot_kws={'s':6, 'alpha':1})"
   ]
  },
  {
   "cell_type": "code",
   "execution_count": null,
   "metadata": {},
   "outputs": [],
   "source": []
  },
  {
   "cell_type": "code",
   "execution_count": null,
   "metadata": {},
   "outputs": [],
   "source": []
  },
  {
   "cell_type": "code",
   "execution_count": null,
   "metadata": {},
   "outputs": [],
   "source": []
  },
  {
   "cell_type": "code",
   "execution_count": null,
   "metadata": {},
   "outputs": [],
   "source": []
  },
  {
   "cell_type": "code",
   "execution_count": null,
   "metadata": {},
   "outputs": [],
   "source": []
  },
  {
   "cell_type": "markdown",
   "metadata": {},
   "source": [
    "## Example 1: Higgs Potential with Matplotlib\n",
    "\n",
    "Before we saw matplotlib in action calling it from a dataframe. Here we make a plot calling matplotlib ourself.\n",
    "\n",
    "Let's make a plot of the Higgs potential\n",
    "$V(\\phi) = \\mu^2\\phi^\\dagger\\phi + \\lambda(\\phi^\\dagger\\phi)^2$\n",
    "using Matplotlib. \n",
    "\n",
    "In this example we use pure NumPy and Matplotlib."
   ]
  },
  {
   "cell_type": "code",
   "execution_count": null,
   "metadata": {},
   "outputs": [],
   "source": [
    "import numpy as np\n",
    "\n",
    "# Let's use a mu = -10 \n",
    "# and a lambda of 1.4\n",
    "mu = -10 # Higgs potential\n",
    "#mu = 8  # Unique minimum\n",
    "l = 1.4 \n",
    "\n",
    "# Start in radial coordinates, \n",
    "# we generate a meshgrid with \n",
    "# r and theta values:\n",
    "r = np.linspace(0, 3, 400)\n",
    "theta = np.linspace(-0.9 * np.pi, 0.7 * np.pi, 200)\n",
    "r, theta = np.meshgrid(r, theta)\n",
    "\n",
    "# Then we go from radial\n",
    "# to Cartesian coordinates\n",
    "X = r * np.sin(theta)\n",
    "Y = r * np.cos(theta)\n",
    "\n",
    "# And we calculate the value of\n",
    "# the potential:\n",
    "V = mu*r**2 + l*r**4"
   ]
  },
  {
   "cell_type": "markdown",
   "metadata": {},
   "source": [
    "Let's plot it now:"
   ]
  },
  {
   "cell_type": "code",
   "execution_count": null,
   "metadata": {},
   "outputs": [],
   "source": [
    "import matplotlib.pyplot as plt\n",
    "from mpl_toolkits.mplot3d import Axes3D\n",
    "\n",
    "fig = plt.figure(figsize=(8,6))\n",
    "\n",
    "ax = plt.axes(projection='3d')\n",
    "\n",
    "ax.plot_surface(X, Y, V, rstride=1, cstride=1,\n",
    "                cmap='viridis', edgecolor='none', antialiased=False);\n",
    "\n",
    "ax.set_xlabel('Re $\\phi$', fontsize=18)\n",
    "ax.set_ylabel('Im $\\phi$', fontsize=18)\n",
    "ax.set_zlabel('V($\\phi)$', fontsize=18)\n",
    "ax.set_xticklabels([])\n",
    "ax.set_yticklabels([])\n",
    "ax.set_zticklabels([])\n",
    "\n",
    "plt.show()"
   ]
  },
  {
   "cell_type": "markdown",
   "metadata": {},
   "source": [
    "## Example 2: Pandas, Event Selection, and Plotting\n",
    "\n",
    "In this example we take a ROOT file obtained from a LArSoft analyzer, which contains some truth basic variables. \n",
    "\n",
    "We use uproot to open the file and convert the `TTree` to a Pandas `DataFrame`.\n",
    "\n",
    "We then apply a simple event selection using the Pandas `DataFrame::query()` function.\n",
    "\n",
    "Finally, we make a plot of neutrino interactions as a function of neutrino energy.\n",
    "\n",
    "Let's start with opening the file:"
   ]
  },
  {
   "cell_type": "code",
   "execution_count": null,
   "metadata": {},
   "outputs": [],
   "source": [
    "f = uproot.open('data/sbnd_extracted_genie.root')\n",
    "df = f['extractor/tree'].pandas.df()\n",
    "df.keys()"
   ]
  },
  {
   "cell_type": "code",
   "execution_count": null,
   "metadata": {},
   "outputs": [],
   "source": [
    "# EXERCISE: Select only event with neutrinos in the TPC x in [-200, 200], y in [-200, 200] and z in [0, 500]\n",
    "# Also select only events with muon neutrinos interacting CC,\n",
    "\n",
    "selection = 'nu_vtx_x > -200 and nu_vtx_x < 200 '\n",
    "selection += 'and nu_vtx_y > -200 and nu_vtx_y < 200 '\n",
    "selection += 'and nu_vtx_z > 0 and nu_vtx_z < 500 '\n",
    "\n",
    "selection += 'and nu_pdg == 14 '\n",
    "\n",
    "selection += 'and ccnc == 0 '\n",
    "\n",
    "df = df.query(selection)"
   ]
  },
  {
   "cell_type": "code",
   "execution_count": null,
   "metadata": {},
   "outputs": [],
   "source": [
    "# EXCERCISE: Make an histogram with the neutrino energy using \"ax.hist\"\n",
    "\n",
    "import matplotlib.pyplot as plt\n",
    "\n",
    "fig, ax = plt.subplots(ncols=1, nrows=1, figsize=(10,6))\n",
    "\n",
    "ax.hist(df['nu_e'], bins=100, range=(0,6))\n",
    "\n",
    "plt.show()"
   ]
  },
  {
   "cell_type": "markdown",
   "metadata": {},
   "source": [
    "Next, we see how to plot the same histogram using `step`:"
   ]
  },
  {
   "cell_type": "code",
   "execution_count": null,
   "metadata": {},
   "outputs": [],
   "source": [
    "# First, define the bins using \"np.linspace\":\n",
    "x_min = 0\n",
    "x_max = 6\n",
    "n_bins = 100\n",
    "bins = np.linspace(x_min, x_max, n_bins+1)\n",
    "\n",
    "# Get the data in numpy array:\n",
    "data = df['nu_e'].values\n",
    "\n",
    "# We use \"np.histogram\" to build the histogram:\n",
    "h, _ = np.histogram(data, bins=bins)\n",
    "h = np.append(h, h[-1])\n",
    "\n",
    "# Finally, plot it!\n",
    "fig, ax = plt.subplots(ncols=1, nrows=1, figsize=(10,6))\n",
    "\n",
    "ax.step(bins, h)\n",
    "\n",
    "plt.show()"
   ]
  },
  {
   "cell_type": "code",
   "execution_count": null,
   "metadata": {},
   "outputs": [],
   "source": []
  },
  {
   "cell_type": "code",
   "execution_count": null,
   "metadata": {},
   "outputs": [],
   "source": []
  },
  {
   "cell_type": "markdown",
   "metadata": {},
   "source": [
    "## Plotly\n",
    "\n",
    "Plotly provides online graphing, analytics, and statistics tools for many languages like Python, R, MATLAB, Perl, Julia, Arduino, and REST.\n",
    "\n",
    "It allows to make nice interactive plots, like the ones we are going to do below.\n",
    "\n",
    "Also, it has a nice a extention to make plots that remain interactive on the browser, called `Dash`.\n",
    "\n",
    "<img src=\"data/logos/plotly.png\" style=\"width: 250px;\">"
   ]
  },
  {
   "cell_type": "code",
   "execution_count": null,
   "metadata": {},
   "outputs": [],
   "source": [
    "import plotly.express as px\n",
    "fig = px.histogram(df, x=\"nu_e\", nbins=100, histnorm='probability density')\n",
    "fig.show()"
   ]
  },
  {
   "cell_type": "code",
   "execution_count": null,
   "metadata": {},
   "outputs": [],
   "source": [
    "# EXCERCISE: Try to add option  marginal=\"violin\", or \"rug\", \"box\", \"violin\""
   ]
  },
  {
   "cell_type": "code",
   "execution_count": null,
   "metadata": {},
   "outputs": [],
   "source": [
    "import yaml\n",
    "import numpy as np\n",
    "pmt_geom = yaml.load(open('data/sbnd_pmts_tpc0.yaml').read(), Loader=yaml.Loader)['PMTGeom']\n",
    "\n",
    "pmts = {}\n",
    "for key, value in pmt_geom.items():\n",
    "    pmts[key] = value\n",
    "    \n",
    "pmts_y = []\n",
    "pmts_z = []\n",
    "for p in pmts.values():\n",
    "    pmts_y.append(p[1])\n",
    "    pmts_z.append(p[2])\n",
    "    \n",
    "pmt_mask = np.zeros(492, dtype=bool)\n",
    "for i in range(0, 492):\n",
    "    if i in pmt_geom.keys():\n",
    "        pmt_mask[i] = True"
   ]
  },
  {
   "cell_type": "code",
   "execution_count": null,
   "metadata": {},
   "outputs": [],
   "source": [
    "f = uproot.open('data/flashfinder_tree.root')\n",
    "f.keys()\n",
    "df = f['flashana/FlashTree'].pandas.df('flash*', flatten=False)\n",
    "df.keys()"
   ]
  },
  {
   "cell_type": "code",
   "execution_count": null,
   "metadata": {},
   "outputs": [],
   "source": [
    "event = 0\n",
    "flash_pe_v = df['flash_pe_v'][event]\n",
    "\n",
    "flash_pe_v = flash_pe_v[pmt_mask]"
   ]
  },
  {
   "cell_type": "code",
   "execution_count": null,
   "metadata": {},
   "outputs": [],
   "source": [
    "import plotly.graph_objects as go\n",
    "\n",
    "fig = go.Figure(data=go.Scatter(x=pmts_z,\n",
    "                                y=pmts_y,\n",
    "                                mode='markers',\n",
    "                                marker=dict(size=[30]*len(pmts_z),\n",
    "                                            color=flash_pe_v),\n",
    "                                text=flash_pe_v\n",
    "                               )\n",
    "               )\n",
    "\n",
    "fig.show()"
   ]
  },
  {
   "cell_type": "markdown",
   "metadata": {},
   "source": [
    "See [vis_icarus](http://web.stanford.edu/~kterao/Event144.html) by Kazu for a beautiful 3D rendering! "
   ]
  },
  {
   "cell_type": "code",
   "execution_count": null,
   "metadata": {},
   "outputs": [],
   "source": []
  },
  {
   "cell_type": "code",
   "execution_count": null,
   "metadata": {},
   "outputs": [],
   "source": []
  },
  {
   "cell_type": "code",
   "execution_count": null,
   "metadata": {},
   "outputs": [],
   "source": []
  },
  {
   "cell_type": "code",
   "execution_count": null,
   "metadata": {},
   "outputs": [],
   "source": []
  },
  {
   "cell_type": "markdown",
   "metadata": {},
   "source": [
    "## Fitting\n",
    "\n",
    "Now we are going to look into a fitting example using Python.\n",
    "\n",
    "For this example, we will take a ROOT file created by the SBND analyzer called `HitDumper`, which is the analyzer we are using for the SBND commissioning studies.\n",
    "\n",
    "Among other information, this file contains all the reconstructed hits in the event.\n",
    "\n",
    "The file is generated from particle gun, by producing muon that cross the detector longitudinally at different  `x` positions.\n",
    "\n",
    "The idea of this example is:\n",
    "\n",
    "- Get all the hits from TPC 0 and on the collection plane\n",
    "- Group the hits in different `x` regions, based on the hit time\n",
    "- Calculate the median hit integral value in every `x` region\n",
    "- Fit these median values as a function of `x` (or drift time `t`) using $f(t) = e^{-t/\\tau}$\n",
    "- Extract the electron lifetime $\\tau$\n",
    "\n",
    "We are going to \"slice\" the SBND TPC in 10 regions of `x`:\n",
    "<img src=\"data/sbnd_sliced.png\" style=\"width: 300px;\">\n",
    "These regions can be identified by the CRT. \n",
    "\n",
    "Let's start by opening the ROOT file `hitdumper_tree.root`."
   ]
  },
  {
   "cell_type": "code",
   "execution_count": null,
   "metadata": {},
   "outputs": [],
   "source": [
    "file = uproot.open(\"data/hitdumper_tree.root\")\n",
    "df_original = file['hitdumper/hitdumpertree'].pandas.df(\"hit_*\")"
   ]
  },
  {
   "cell_type": "code",
   "execution_count": null,
   "metadata": {},
   "outputs": [],
   "source": [
    "df_original"
   ]
  },
  {
   "cell_type": "markdown",
   "metadata": {},
   "source": [
    "As you can see, in this dataframe with have both `entry` and `subentry`. This is what is called a _multiindex_ dataframe. Here, in every event we have multiple hits, indexed by `subentry`.\n",
    "\n",
    "Multiindex dataframe are powerful, and more details can be found in the Pandas [documentation](https://pandas.pydata.org/pandas-docs/stable/user_guide/advanced.html)."
   ]
  },
  {
   "cell_type": "markdown",
   "metadata": {},
   "source": [
    "We can use Pandas `dropna()` to drop all the rows with NaN:"
   ]
  },
  {
   "cell_type": "code",
   "execution_count": null,
   "metadata": {},
   "outputs": [],
   "source": [
    "df = df_original.dropna()"
   ]
  },
  {
   "cell_type": "markdown",
   "metadata": {},
   "source": [
    "Also, we select hits from TPC 0 and from the collection plane only:"
   ]
  },
  {
   "cell_type": "code",
   "execution_count": null,
   "metadata": {},
   "outputs": [],
   "source": [
    "# EXCERICE: Select only hits in hit_tpc == 0 and hit_plane == 2:\n",
    "\n",
    "df = df.query('hit_tpc == 0 and hit_plane == 2')"
   ]
  },
  {
   "cell_type": "markdown",
   "metadata": {},
   "source": [
    "Now let's plot all the hit charge vs the hit time.\n",
    "\n",
    "We can use matplotlib `hist2d` to make a 2D histogram."
   ]
  },
  {
   "cell_type": "code",
   "execution_count": null,
   "metadata": {},
   "outputs": [],
   "source": [
    "fig, ax = plt.subplots(ncols=1, nrows=1, figsize=(10, 6))\n",
    "\n",
    "limits = [[0, 2500], [300, 800]]\n",
    "\n",
    "h = ax.hist2d(df_original['hit_peakT'], df_original['hit_charge'], bins=100, range=limits)\n",
    "plt.colorbar(h[3], ax=ax)\n",
    "\n",
    "ax.set_ylabel('Hit Charge [ADC]',fontsize=18)\n",
    "ax.set_xlabel('Drift Time [ticks]',fontsize=18)\n",
    "ax.set_title('Simulated lifetime = 3 ms', loc='right', fontsize=18)\n",
    "ax.tick_params(labelsize=15)\n",
    "ax.grid(True)\n",
    "\n",
    "plt.show()"
   ]
  },
  {
   "cell_type": "markdown",
   "metadata": {},
   "source": [
    "Now, let's divide the hits in 10 different regions along the drift direction.\n",
    "\n",
    "For every \"x slice\" we want the median of all the hit's charge.\n",
    "\n",
    "First, let's construct the bin edges along the drift direction and also the center of these bins:"
   ]
  },
  {
   "cell_type": "code",
   "execution_count": null,
   "metadata": {},
   "outputs": [],
   "source": [
    "bin_edges = np.arange(0, 2750, 250)\n",
    "bin_center = [bin_edges[i]+(bin_edges[i+1]-bin_edges[i])/2 for i in range(len(bin_edges)-1)]\n",
    "print('Bin edges:', bin_edges)\n",
    "print('Bin centers:', bin_center)"
   ]
  },
  {
   "cell_type": "markdown",
   "metadata": {},
   "source": [
    "Now we calculate the median of the hit integral in every `x` bin. Where:\n",
    "- `hit_peakT` is the hit peak time\n",
    "- `hit_charge` is the hit integral"
   ]
  },
  {
   "cell_type": "code",
   "execution_count": null,
   "metadata": {},
   "outputs": [],
   "source": [
    "charge_median = []\n",
    "\n",
    "for i in range(0, len(bin_edges)-1):\n",
    "    start = bin_edges[i]\n",
    "    end = bin_edges[i+1]\n",
    "    query = f'hit_peakT > {start} and hit_peakT < {end}'\n",
    "    \n",
    "    df_select = df.query(query)\n",
    "    \n",
    "    median = np.median(df_select['hit_charge'].values)\n",
    "    charge_median.append(median)\n",
    "\n",
    "\n",
    "bin_center = np.array(bin_center)\n",
    "charge_median = np.array(charge_median)\n",
    "\n",
    "print('Bin centers:', bin_center)\n",
    "print('Charge medians:', charge_median)"
   ]
  },
  {
   "cell_type": "markdown",
   "metadata": {},
   "source": [
    "Let's plot the points that we just calculated:"
   ]
  },
  {
   "cell_type": "code",
   "execution_count": null,
   "metadata": {},
   "outputs": [],
   "source": [
    "fig, ax = plt.subplots(ncols=1, nrows=1, figsize=(10, 6))\n",
    "\n",
    "ax.errorbar(x=bin_center, y=charge_median, marker='o', linestyle='', label='Hit Charge Median')\n",
    "\n",
    "ax.legend(fontsize=18, loc='best')\n",
    "ax.set_xlabel('Drift Time [ticks]',fontsize=18)\n",
    "ax.set_ylabel('Hit Charge [ADC]',fontsize=18)\n",
    "ax.set_title('Simulated lifetime = 3 ms', loc='right', fontsize=18)\n",
    "ax.tick_params(labelsize=15)\n",
    "ax.grid(True)\n",
    "\n",
    "plt.show()"
   ]
  },
  {
   "cell_type": "markdown",
   "metadata": {},
   "source": [
    "Now, we want to fit these points with an exponential, this is how we do it in Python:"
   ]
  },
  {
   "cell_type": "code",
   "execution_count": null,
   "metadata": {},
   "outputs": [],
   "source": [
    "from scipy.optimize import curve_fit\n",
    "\n",
    "def exp(x, a0, tau):\n",
    "    '''\n",
    "    This defines the exponential function \n",
    "    that depends on a0 and tau\n",
    "    '''\n",
    "    return a0 * np.exp(-x/tau) \n",
    "\n",
    "def fit(func, x, y, seed=(), fit_range=None, **kwargs):\n",
    "    '''\n",
    "    Call this to fit a function func on data x,y\n",
    "    You can pass the initial seeds, and the range \n",
    "    to use for the fit.\n",
    "    '''\n",
    "    if fit_range is not None:\n",
    "        sel = (fit_range[0] <= x) & (x < fit_range[1])\n",
    "        x, y = x[sel], y[sel]\n",
    "        \n",
    "    vals, cov = curve_fit(func, x, y, seed, **kwargs)\n",
    "    \n",
    "    fitf = lambda x: func(x, *vals)\n",
    "    \n",
    "    errors = np.sqrt(np.diag(cov))\n",
    "    \n",
    "    return fitf, vals, errors"
   ]
  },
  {
   "cell_type": "markdown",
   "metadata": {},
   "source": [
    "Let's run the fit now!"
   ]
  },
  {
   "cell_type": "code",
   "execution_count": null,
   "metadata": {},
   "outputs": [],
   "source": [
    "seed = 650., 6e3\n",
    "fitf, vals, errs = fit(func=exp, \n",
    "                       x=bin_center, \n",
    "                       y=charge_median, \n",
    "                       seed=seed, \n",
    "                       fit_range=(0, 2500))\n",
    "print('Fit results:', vals)"
   ]
  },
  {
   "cell_type": "markdown",
   "metadata": {},
   "source": [
    "And finally, let's plot the results!"
   ]
  },
  {
   "cell_type": "code",
   "execution_count": null,
   "metadata": {},
   "outputs": [],
   "source": [
    "fig, ax = plt.subplots(ncols=1, nrows=1, figsize=(12, 8))\n",
    "\n",
    "_sampling = 2 # The 2 us sampling\n",
    "\n",
    "ax.errorbar(x=bin_center, y=charge_median, marker='o', linestyle='', label='Hit Charge Median')\n",
    "\n",
    "x = np.arange(0, 2500)\n",
    "\n",
    "legend = f'Fit: $f(x) = a\\cdot exp(-t/\\\\tau)$ \\n $a$ = {vals[0]:.2} $\\pm$ {errs[0]:.2} \\n $\\\\tau$ = {vals[1]*1e-3/_sampling:.3} $\\pm$ {errs[1]*1e-3/_sampling:.1}'\n",
    "\n",
    "plt.plot(x, fitf(x), 'r-', label=legend)\n",
    "\n",
    "ax.legend(fontsize=18, loc='best')\n",
    "ax.set_xlabel('Drift Time [ticks]',fontsize=18)\n",
    "ax.set_ylabel('Hit Charge [ADC]',fontsize=18)\n",
    "ax.set_title('Simulated lifetime = 3 ms', loc='right', fontsize=18)\n",
    "ax.tick_params(labelsize=15)\n",
    "ax.grid(True)\n",
    "\n",
    "plt.show()"
   ]
  },
  {
   "cell_type": "code",
   "execution_count": null,
   "metadata": {},
   "outputs": [],
   "source": [
    "print('Well done! 👏👏👏')"
   ]
  },
  {
   "cell_type": "markdown",
   "metadata": {},
   "source": [
    "Yes...you can use Unicode in your string literals! 😁"
   ]
  },
  {
   "cell_type": "code",
   "execution_count": null,
   "metadata": {},
   "outputs": [],
   "source": []
  },
  {
   "cell_type": "code",
   "execution_count": null,
   "metadata": {},
   "outputs": [],
   "source": []
  }
 ],
 "metadata": {
  "kernelspec": {
   "display_name": "Python 3",
   "language": "python",
   "name": "python3"
  },
  "language_info": {
   "codemirror_mode": {
    "name": "ipython",
    "version": 3
   },
   "file_extension": ".py",
   "mimetype": "text/x-python",
   "name": "python",
   "nbconvert_exporter": "python",
   "pygments_lexer": "ipython3",
   "version": "3.7.4"
  }
 },
 "nbformat": 4,
 "nbformat_minor": 2
}
